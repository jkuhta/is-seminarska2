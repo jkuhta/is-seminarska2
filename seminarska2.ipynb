{
 "cells": [
  {
   "attachments": {},
   "cell_type": "markdown",
   "metadata": {},
   "source": [
    "## Seminar 2: Predicting Biodegradability of Chemicals\n",
    "### Intelligent Systems (IS), 8.1.2023\n",
    "### Rok Rajher, Jan Kuhta"
   ]
  },
  {
   "attachments": {},
   "cell_type": "markdown",
   "metadata": {},
   "source": [
    "## Exploration"
   ]
  },
  {
   "attachments": {},
   "cell_type": "markdown",
   "metadata": {},
   "source": [
    "#### Loading datasets"
   ]
  },
  {
   "cell_type": "code",
   "execution_count": 1,
   "metadata": {},
   "outputs": [
    {
     "data": {
      "text/html": [
       "<div>\n",
       "<style scoped>\n",
       "    .dataframe tbody tr th:only-of-type {\n",
       "        vertical-align: middle;\n",
       "    }\n",
       "\n",
       "    .dataframe tbody tr th {\n",
       "        vertical-align: top;\n",
       "    }\n",
       "\n",
       "    .dataframe thead th {\n",
       "        text-align: right;\n",
       "    }\n",
       "</style>\n",
       "<table border=\"1\" class=\"dataframe\">\n",
       "  <thead>\n",
       "    <tr style=\"text-align: right;\">\n",
       "      <th></th>\n",
       "      <th>V1</th>\n",
       "      <th>V2</th>\n",
       "      <th>V3</th>\n",
       "      <th>V4</th>\n",
       "      <th>V5</th>\n",
       "      <th>V6</th>\n",
       "      <th>V7</th>\n",
       "      <th>V8</th>\n",
       "      <th>V9</th>\n",
       "      <th>V10</th>\n",
       "      <th>...</th>\n",
       "      <th>V33</th>\n",
       "      <th>V34</th>\n",
       "      <th>V35</th>\n",
       "      <th>V36</th>\n",
       "      <th>V37</th>\n",
       "      <th>V38</th>\n",
       "      <th>V39</th>\n",
       "      <th>V40</th>\n",
       "      <th>V41</th>\n",
       "      <th>Class</th>\n",
       "    </tr>\n",
       "  </thead>\n",
       "  <tbody>\n",
       "    <tr>\n",
       "      <th>1</th>\n",
       "      <td>3.919</td>\n",
       "      <td>2.6909</td>\n",
       "      <td>0</td>\n",
       "      <td>0</td>\n",
       "      <td>0</td>\n",
       "      <td>0</td>\n",
       "      <td>0</td>\n",
       "      <td>31.4</td>\n",
       "      <td>2</td>\n",
       "      <td>0</td>\n",
       "      <td>...</td>\n",
       "      <td>0</td>\n",
       "      <td>0</td>\n",
       "      <td>0</td>\n",
       "      <td>2.949</td>\n",
       "      <td>1.591</td>\n",
       "      <td>0</td>\n",
       "      <td>7.253</td>\n",
       "      <td>0</td>\n",
       "      <td>0</td>\n",
       "      <td>2</td>\n",
       "    </tr>\n",
       "    <tr>\n",
       "      <th>2</th>\n",
       "      <td>4.170</td>\n",
       "      <td>2.1144</td>\n",
       "      <td>0</td>\n",
       "      <td>0</td>\n",
       "      <td>0</td>\n",
       "      <td>0</td>\n",
       "      <td>0</td>\n",
       "      <td>30.8</td>\n",
       "      <td>1</td>\n",
       "      <td>1</td>\n",
       "      <td>...</td>\n",
       "      <td>0</td>\n",
       "      <td>0</td>\n",
       "      <td>0</td>\n",
       "      <td>3.315</td>\n",
       "      <td>1.967</td>\n",
       "      <td>0</td>\n",
       "      <td>7.257</td>\n",
       "      <td>0</td>\n",
       "      <td>0</td>\n",
       "      <td>2</td>\n",
       "    </tr>\n",
       "    <tr>\n",
       "      <th>4</th>\n",
       "      <td>3.000</td>\n",
       "      <td>2.7098</td>\n",
       "      <td>0</td>\n",
       "      <td>0</td>\n",
       "      <td>0</td>\n",
       "      <td>0</td>\n",
       "      <td>0</td>\n",
       "      <td>20.0</td>\n",
       "      <td>0</td>\n",
       "      <td>2</td>\n",
       "      <td>...</td>\n",
       "      <td>0</td>\n",
       "      <td>0</td>\n",
       "      <td>1</td>\n",
       "      <td>3.046</td>\n",
       "      <td>5.000</td>\n",
       "      <td>0</td>\n",
       "      <td>6.690</td>\n",
       "      <td>0</td>\n",
       "      <td>0</td>\n",
       "      <td>2</td>\n",
       "    </tr>\n",
       "    <tr>\n",
       "      <th>13</th>\n",
       "      <td>4.214</td>\n",
       "      <td>2.6272</td>\n",
       "      <td>0</td>\n",
       "      <td>0</td>\n",
       "      <td>0</td>\n",
       "      <td>0</td>\n",
       "      <td>0</td>\n",
       "      <td>30.0</td>\n",
       "      <td>3</td>\n",
       "      <td>0</td>\n",
       "      <td>...</td>\n",
       "      <td>0</td>\n",
       "      <td>0</td>\n",
       "      <td>0</td>\n",
       "      <td>2.998</td>\n",
       "      <td>1.722</td>\n",
       "      <td>0</td>\n",
       "      <td>6.770</td>\n",
       "      <td>0</td>\n",
       "      <td>0</td>\n",
       "      <td>2</td>\n",
       "    </tr>\n",
       "    <tr>\n",
       "      <th>16</th>\n",
       "      <td>3.942</td>\n",
       "      <td>2.7719</td>\n",
       "      <td>1</td>\n",
       "      <td>0</td>\n",
       "      <td>0</td>\n",
       "      <td>0</td>\n",
       "      <td>0</td>\n",
       "      <td>31.6</td>\n",
       "      <td>2</td>\n",
       "      <td>0</td>\n",
       "      <td>...</td>\n",
       "      <td>0</td>\n",
       "      <td>0</td>\n",
       "      <td>0</td>\n",
       "      <td>3.542</td>\n",
       "      <td>1.739</td>\n",
       "      <td>0</td>\n",
       "      <td>8.127</td>\n",
       "      <td>0</td>\n",
       "      <td>1</td>\n",
       "      <td>2</td>\n",
       "    </tr>\n",
       "  </tbody>\n",
       "</table>\n",
       "<p>5 rows × 42 columns</p>\n",
       "</div>"
      ],
      "text/plain": [
       "       V1      V2  V3  V4  V5  V6  V7    V8  V9  V10  ...  V33  V34  V35  \\\n",
       "1   3.919  2.6909   0   0   0   0   0  31.4   2    0  ...    0    0    0   \n",
       "2   4.170  2.1144   0   0   0   0   0  30.8   1    1  ...    0    0    0   \n",
       "4   3.000  2.7098   0   0   0   0   0  20.0   0    2  ...    0    0    1   \n",
       "13  4.214  2.6272   0   0   0   0   0  30.0   3    0  ...    0    0    0   \n",
       "16  3.942  2.7719   1   0   0   0   0  31.6   2    0  ...    0    0    0   \n",
       "\n",
       "      V36    V37  V38    V39  V40  V41  Class  \n",
       "1   2.949  1.591    0  7.253    0    0      2  \n",
       "2   3.315  1.967    0  7.257    0    0      2  \n",
       "4   3.046  5.000    0  6.690    0    0      2  \n",
       "13  2.998  1.722    0  6.770    0    0      2  \n",
       "16  3.542  1.739    0  8.127    0    1      2  \n",
       "\n",
       "[5 rows x 42 columns]"
      ]
     },
     "execution_count": 1,
     "metadata": {},
     "output_type": "execute_result"
    }
   ],
   "source": [
    "import pandas as pd\n",
    "import numpy as np\n",
    "import matplotlib.pyplot as plt\n",
    "\n",
    "test = pd.read_csv(\"./test.csv\")\n",
    "train = pd.read_csv(\"./train.csv\")\n",
    "\n",
    "test.head()"
   ]
  },
  {
   "attachments": {},
   "cell_type": "markdown",
   "metadata": {},
   "source": [
    "#### Balance of target class"
   ]
  },
  {
   "cell_type": "code",
   "execution_count": 2,
   "metadata": {},
   "outputs": [
    {
     "name": "stdout",
     "output_type": "stream",
     "text": [
      "1    564\n",
      "2    282\n",
      "Name: Class, dtype: int64\n",
      "1    0.666667\n",
      "2    0.333333\n",
      "Name: Class, dtype: float64\n"
     ]
    }
   ],
   "source": [
    "cnt = train['Class'].value_counts()\n",
    "\n",
    "print(cnt)\n",
    "print(cnt / len(train))"
   ]
  },
  {
   "attachments": {},
   "cell_type": "markdown",
   "metadata": {},
   "source": [
    "#### Finding columns with NaN values"
   ]
  },
  {
   "cell_type": "code",
   "execution_count": 3,
   "metadata": {},
   "outputs": [
    {
     "data": {
      "text/plain": [
       "Index(['V4', 'V22', 'V27', 'V29', 'V37'], dtype='object')"
      ]
     },
     "metadata": {},
     "output_type": "display_data"
    }
   ],
   "source": [
    "cols_with_nan = train.columns[train.isnull().any()]\n",
    "display(cols_with_nan)"
   ]
  },
  {
   "attachments": {},
   "cell_type": "markdown",
   "metadata": {},
   "source": [
    "#### Replacing NaN values in column \"V4\""
   ]
  },
  {
   "cell_type": "code",
   "execution_count": 4,
   "metadata": {},
   "outputs": [
    {
     "name": "stdout",
     "output_type": "stream",
     "text": [
      "0.0: 800\n",
      "1.0: 17\n",
      "2.0: 4\n",
      "nan: 25\n"
     ]
    }
   ],
   "source": [
    "v4 = train['V4'].values\n",
    "unique_values, counts = np.unique(v4, return_counts=True)\n",
    "\n",
    "for value, count in zip(unique_values, counts):\n",
    "    print(f\"{value}: {count}\")"
   ]
  },
  {
   "attachments": {},
   "cell_type": "markdown",
   "metadata": {},
   "source": [
    "Because most of the values in column \"V4\" are 0, replacing NaN values with 0 seems most suitable.\n"
   ]
  },
  {
   "cell_type": "code",
   "execution_count": 5,
   "metadata": {},
   "outputs": [],
   "source": [
    "test['V4'] = test['V4'].fillna(0)\n",
    "train['V4'] = train['V4'].fillna(0)"
   ]
  },
  {
   "attachments": {},
   "cell_type": "markdown",
   "metadata": {},
   "source": [
    "#### Replacing NaN values in column \"V22\""
   ]
  },
  {
   "cell_type": "code",
   "execution_count": 6,
   "metadata": {},
   "outputs": [
    {
     "name": "stdout",
     "output_type": "stream",
     "text": [
      "0.898: 1\n",
      "0.906: 3\n",
      "0.911: 1\n",
      "0.995: 1\n",
      "0.999: 1\n"
     ]
    }
   ],
   "source": [
    "v4 = train['V22'].values\n",
    "unique_values, counts = np.unique(v4, return_counts=True)\n",
    "\n",
    "for value, count in zip(unique_values[:5], counts[:5]):\n",
    "    print(f\"{value}: {count}\")"
   ]
  },
  {
   "attachments": {},
   "cell_type": "markdown",
   "metadata": {},
   "source": [
    "Sinse most of the values in column \"V22\" are unique real numbers, replacing NaN values with mean of the column seems most suitable."
   ]
  },
  {
   "cell_type": "code",
   "execution_count": 7,
   "metadata": {},
   "outputs": [],
   "source": [
    "mean_value_test = test['V22'].mean()\n",
    "mean_value_train = train['V22'].mean()\n",
    "\n",
    "\n",
    "test['V22'] = test['V22'].fillna(mean_value_test)\n",
    "train['V22'] = train['V22'].fillna(mean_value_train)"
   ]
  },
  {
   "attachments": {},
   "cell_type": "markdown",
   "metadata": {},
   "source": [
    "#### Replacing NaN values in column \"V27\""
   ]
  },
  {
   "cell_type": "code",
   "execution_count": 8,
   "metadata": {},
   "outputs": [
    {
     "name": "stdout",
     "output_type": "stream",
     "text": [
      "1.0: 1\n",
      "1.414: 7\n",
      "1.618: 10\n",
      "1.732: 16\n",
      "1.802: 8\n"
     ]
    }
   ],
   "source": [
    "v4 = train['V27'].values\n",
    "unique_values, counts = np.unique(v4, return_counts=True)\n",
    "for value, count in zip(unique_values[:5], counts[:5]):\n",
    "    print(f\"{value}: {count}\")"
   ]
  },
  {
   "attachments": {},
   "cell_type": "markdown",
   "metadata": {},
   "source": [
    "Similarly to column \"V22\", this column is represented by many unique real values, therefore the mean values seems the most suitable again."
   ]
  },
  {
   "cell_type": "code",
   "execution_count": 9,
   "metadata": {},
   "outputs": [],
   "source": [
    "mean_value_test = test['V27'].mean()\n",
    "mean_value_train = train['V27'].mean()\n",
    "\n",
    "\n",
    "test['V27'] = test['V27'].fillna(mean_value_test)\n",
    "train['V27'] = train['V27'].fillna(mean_value_train)"
   ]
  },
  {
   "attachments": {},
   "cell_type": "markdown",
   "metadata": {},
   "source": [
    "#### Replacing NaN values in column \"V29\""
   ]
  },
  {
   "cell_type": "code",
   "execution_count": 10,
   "metadata": {},
   "outputs": [
    {
     "name": "stdout",
     "output_type": "stream",
     "text": [
      "0.0: 817\n",
      "1.0: 21\n",
      "nan: 8\n"
     ]
    }
   ],
   "source": [
    "v29 = train['V29'].values\n",
    "unique_values, counts = np.unique(v29, return_counts=True)\n",
    "for value, count in zip(unique_values[:5], counts[:5]):\n",
    "    print(f\"{value}: {count}\")"
   ]
  },
  {
   "attachments": {},
   "cell_type": "markdown",
   "metadata": {},
   "source": [
    "This column only containts whole numbers 0 and 1, with 0 being by far the most represented value in the column, therefore replacing NaN with 0 seems most optimal here."
   ]
  },
  {
   "cell_type": "code",
   "execution_count": 11,
   "metadata": {},
   "outputs": [],
   "source": [
    "test['V29'] = test['V29'].fillna(0)\n",
    "train['V29'] = train['V29'].fillna(0)"
   ]
  },
  {
   "attachments": {},
   "cell_type": "markdown",
   "metadata": {},
   "source": [
    "#### Replacing NaN values in column \"V37\""
   ]
  },
  {
   "cell_type": "code",
   "execution_count": 12,
   "metadata": {},
   "outputs": [
    {
     "name": "stdout",
     "output_type": "stream",
     "text": [
      "1.467: 1\n",
      "1.5: 2\n",
      "1.528: 1\n",
      "1.55: 1\n",
      "1.551: 1\n"
     ]
    }
   ],
   "source": [
    "v37 = train['V37'].values\n",
    "unique_values, counts = np.unique(v37, return_counts=True)\n",
    "for value, count in zip(unique_values[:5], counts[:5]):\n",
    "    print(f\"{value}: {count}\")"
   ]
  },
  {
   "attachments": {},
   "cell_type": "markdown",
   "metadata": {},
   "source": [
    "Similarly to columns \"V22\" and \"V27\", this column is represented by many unique real values, therefore the mean values seems the most suitable again."
   ]
  },
  {
   "cell_type": "code",
   "execution_count": 13,
   "metadata": {},
   "outputs": [],
   "source": [
    "mean_value_test = test['V37'].mean()\n",
    "mean_value_train = train['V37'].mean()\n",
    "\n",
    "\n",
    "test['V37'] = test['V37'].fillna(mean_value_test)\n",
    "train['V37'] = train['V37'].fillna(mean_value_train)"
   ]
  },
  {
   "attachments": {},
   "cell_type": "markdown",
   "metadata": {},
   "source": [
    "#### Visualization"
   ]
  },
  {
   "attachments": {},
   "cell_type": "markdown",
   "metadata": {},
   "source": [
    "Visualization of importance that each feature provides"
   ]
  },
  {
   "cell_type": "code",
   "execution_count": 14,
   "metadata": {},
   "outputs": [
    {
     "data": {
      "image/png": "[encoded data removed]",
      "text/plain": [
       "<Figure size 640x480 with 1 Axes>"
      ]
     },
     "metadata": {},
     "output_type": "display_data"
    }
   ],
   "source": [
    "from sklearn.ensemble import RandomForestClassifier\n",
    "# Select the features and target variable\n",
    "X = train.drop('Class', axis=1)\n",
    "y = train['Class']\n",
    "\n",
    "# Train a random forest classifier\n",
    "model = RandomForestClassifier(n_estimators=100)\n",
    "model.fit(X, y)\n",
    "\n",
    "# Get the feature importance scores\n",
    "importances = model.feature_importances_\n",
    "\n",
    "# Sort the feature importance scores in descending order\n",
    "indices = np.argsort(importances)[::-1]\n",
    "\n",
    "# Create a list of the feature names\n",
    "feature_names = list(X.columns[indices])\n",
    "\n",
    "# Create a bar plot of the feature importance scores\n",
    "plt.bar(range(X.shape[1]), importances[indices])\n",
    "plt.xticks(range(X.shape[1]), feature_names, rotation=90)\n",
    "plt.ylabel('Importance')\n",
    "plt.xlabel('Feature')\n",
    "plt.show()"
   ]
  },
  {
   "attachments": {},
   "cell_type": "markdown",
   "metadata": {},
   "source": [
    "Visualziation of correlation between pairs of attributes using heatmap"
   ]
  },
  {
   "cell_type": "code",
   "execution_count": 15,
   "metadata": {},
   "outputs": [
    {
     "name": "stdout",
     "output_type": "stream",
     "text": [
      "V15  V27    0.919547\n",
      "V27  V15    0.919547\n",
      "V1   V27    0.916709\n",
      "V27  V1     0.916709\n",
      "V36  V39    0.916597\n",
      "dtype: float64\n",
      "V18  V22   -0.794449\n",
      "V22  V18   -0.794449\n",
      "V8   V18   -0.700296\n",
      "V18  V8    -0.700296\n",
      "V10  V12   -0.517011\n",
      "dtype: float64\n"
     ]
    },
    {
     "data": {
      "image/png": "[encoded data removed]",
      "text/plain": [
       "<Figure size 640x480 with 2 Axes>"
      ]
     },
     "metadata": {},
     "output_type": "display_data"
    }
   ],
   "source": [
    "import seaborn as sns\n",
    "\n",
    "X = train.drop(\"Class\",axis=1)\n",
    "corr = X.corr()\n",
    "\n",
    "corr1 = corr.where(corr != 1)\n",
    "top5 = corr1.stack().nlargest(5)\n",
    "print(top5)\n",
    "\n",
    "bott5 = corr1.stack().nsmallest(5)\n",
    "print(bott5)\n",
    "\n",
    "sns.heatmap(corr)\n",
    "plt.show()"
   ]
  },
  {
   "attachments": {},
   "cell_type": "markdown",
   "metadata": {},
   "source": [
    "Visualization of correlation between each feature(or number of combined features) and target variable"
   ]
  },
  {
   "cell_type": "code",
   "execution_count": 16,
   "metadata": {},
   "outputs": [
    {
     "name": "stdout",
     "output_type": "stream",
     "text": [
      "0.2797771287165461 ('V14', 'V15')\n",
      "-0.3904146777174203 ('V1', 'V2')\n"
     ]
    },
    {
     "data": {
      "image/png": "[encoded data removed]",
      "text/plain": [
       "<Figure size 640x480 with 1 Axes>"
      ]
     },
     "metadata": {},
     "output_type": "display_data"
    }
   ],
   "source": [
    "import itertools\n",
    "\n",
    "number_of_combined_features = 2\n",
    "\n",
    "\n",
    "X = train.drop('Class', axis=1)\n",
    "y = train['Class']\n",
    "\n",
    "\n",
    "combinations = list(itertools.combinations(X.columns, number_of_combined_features))\n",
    "\n",
    "\n",
    "for c in combinations:\n",
    "    corr = X[list(c)].corrwith(y, method='pearson')\n",
    "\n",
    "\n",
    "correlations = []\n",
    "\n",
    "\n",
    "maxc = -np.inf\n",
    "minc = np.inf\n",
    "for c in combinations:\n",
    "    corr = X[list(c)].corrwith(y, method='pearson')\n",
    "    correlations.append(corr[0])\n",
    "    if maxc < corr[0]:\n",
    "        maxc = corr[0]\n",
    "        maxval = c\n",
    "\n",
    "    if minc > corr[0]:\n",
    "        minc = corr[0]\n",
    "        minval = c\n",
    "\n",
    "print(maxc,maxval)\n",
    "print(minc,minval)\n",
    "\n",
    "\n",
    "plt.bar(range(len(combinations)), correlations)\n",
    "\n",
    "plt.xlabel('Feature combination')\n",
    "plt.ylabel('Correlation')\n",
    "plt.show()\n",
    "\n"
   ]
  },
  {
   "attachments": {},
   "cell_type": "markdown",
   "metadata": {},
   "source": [
    "## Modeling"
   ]
  },
  {
   "cell_type": "code",
   "execution_count": 17,
   "metadata": {},
   "outputs": [],
   "source": [
    "from sklearn.metrics import f1_score, roc_auc_score, recall_score, precision_score, accuracy_score\n",
    "\n",
    "X_train = train.iloc[:,:-1].values\n",
    "y_train = train['Class']\n",
    "\n",
    "X_test = test.iloc[:,:-1].values\n",
    "y_test = test['Class']"
   ]
  },
  {
   "attachments": {},
   "cell_type": "markdown",
   "metadata": {},
   "source": [
    "#### Majority classifier and random classifier"
   ]
  },
  {
   "cell_type": "code",
   "execution_count": 18,
   "metadata": {},
   "outputs": [
    {
     "data": {
      "text/html": [
       "<div>\n",
       "<style scoped>\n",
       "    .dataframe tbody tr th:only-of-type {\n",
       "        vertical-align: middle;\n",
       "    }\n",
       "\n",
       "    .dataframe tbody tr th {\n",
       "        vertical-align: top;\n",
       "    }\n",
       "\n",
       "    .dataframe thead th {\n",
       "        text-align: right;\n",
       "    }\n",
       "</style>\n",
       "<table border=\"1\" class=\"dataframe\">\n",
       "  <thead>\n",
       "    <tr style=\"text-align: right;\">\n",
       "      <th></th>\n",
       "      <th>F1</th>\n",
       "      <th>precision</th>\n",
       "      <th>recall</th>\n",
       "      <th>AUC</th>\n",
       "    </tr>\n",
       "  </thead>\n",
       "  <tbody>\n",
       "    <tr>\n",
       "      <th>0</th>\n",
       "      <td>0.645933</td>\n",
       "      <td>0.645933</td>\n",
       "      <td>1.0</td>\n",
       "      <td>0.5</td>\n",
       "    </tr>\n",
       "  </tbody>\n",
       "</table>\n",
       "</div>"
      ],
      "text/plain": [
       "         F1  precision  recall  AUC\n",
       "0  0.645933   0.645933     1.0  0.5"
      ]
     },
     "metadata": {},
     "output_type": "display_data"
    }
   ],
   "source": [
    "predictions = np.full(209, 1)\n",
    "\n",
    "f1 = accuracy_score(y_test,predictions)\n",
    "precision = precision_score(y_test,predictions,zero_division=False)\n",
    "recall = recall_score(y_test, predictions)\n",
    "AUC = roc_auc_score(y_test,predictions)\n",
    "\n",
    "data = np.array([[f1,precision,recall,AUC]])\n",
    "scores = pd.DataFrame(data, columns=['F1','precision','recall','AUC'])\n",
    "\n",
    "display(scores)"
   ]
  },
  {
   "cell_type": "code",
   "execution_count": 19,
   "metadata": {},
   "outputs": [
    {
     "data": {
      "text/html": [
       "<div>\n",
       "<style scoped>\n",
       "    .dataframe tbody tr th:only-of-type {\n",
       "        vertical-align: middle;\n",
       "    }\n",
       "\n",
       "    .dataframe tbody tr th {\n",
       "        vertical-align: top;\n",
       "    }\n",
       "\n",
       "    .dataframe thead th {\n",
       "        text-align: right;\n",
       "    }\n",
       "</style>\n",
       "<table border=\"1\" class=\"dataframe\">\n",
       "  <thead>\n",
       "    <tr style=\"text-align: right;\">\n",
       "      <th></th>\n",
       "      <th>F1</th>\n",
       "      <th>precision</th>\n",
       "      <th>recall</th>\n",
       "      <th>AUC</th>\n",
       "    </tr>\n",
       "  </thead>\n",
       "  <tbody>\n",
       "    <tr>\n",
       "      <th>0</th>\n",
       "      <td>0.444976</td>\n",
       "      <td>0.604396</td>\n",
       "      <td>0.407407</td>\n",
       "      <td>0.46046</td>\n",
       "    </tr>\n",
       "  </tbody>\n",
       "</table>\n",
       "</div>"
      ],
      "text/plain": [
       "         F1  precision    recall      AUC\n",
       "0  0.444976   0.604396  0.407407  0.46046"
      ]
     },
     "metadata": {},
     "output_type": "display_data"
    }
   ],
   "source": [
    "import random\n",
    "predictions = [random.choice([1, 2]) for _ in range(len(y_test))]\n",
    "f1 = accuracy_score(y_test,predictions)\n",
    "precision = precision_score(y_test,predictions,zero_division=False)\n",
    "recall = recall_score(y_test, predictions)\n",
    "AUC = roc_auc_score(y_test,predictions)\n",
    "\n",
    "data = np.array([[f1,precision,recall,AUC]])\n",
    "scores = pd.DataFrame(data, columns=['F1','precision','recall','AUC'])\n",
    "\n",
    "display(scores)"
   ]
  },
  {
   "attachments": {},
   "cell_type": "markdown",
   "metadata": {},
   "source": [
    "#### Logistic regression"
   ]
  },
  {
   "cell_type": "code",
   "execution_count": 20,
   "metadata": {},
   "outputs": [
    {
     "data": {
      "text/html": [
       "<div>\n",
       "<style scoped>\n",
       "    .dataframe tbody tr th:only-of-type {\n",
       "        vertical-align: middle;\n",
       "    }\n",
       "\n",
       "    .dataframe tbody tr th {\n",
       "        vertical-align: top;\n",
       "    }\n",
       "\n",
       "    .dataframe thead th {\n",
       "        text-align: right;\n",
       "    }\n",
       "</style>\n",
       "<table border=\"1\" class=\"dataframe\">\n",
       "  <thead>\n",
       "    <tr style=\"text-align: right;\">\n",
       "      <th></th>\n",
       "      <th>F1</th>\n",
       "      <th>precision</th>\n",
       "      <th>recall</th>\n",
       "      <th>AUC</th>\n",
       "    </tr>\n",
       "  </thead>\n",
       "  <tbody>\n",
       "    <tr>\n",
       "      <th>0</th>\n",
       "      <td>0.875</td>\n",
       "      <td>0.881481</td>\n",
       "      <td>0.868613</td>\n",
       "      <td>0.823195</td>\n",
       "    </tr>\n",
       "  </tbody>\n",
       "</table>\n",
       "</div>"
      ],
      "text/plain": [
       "      F1  precision    recall       AUC\n",
       "0  0.875   0.881481  0.868613  0.823195"
      ]
     },
     "metadata": {},
     "output_type": "display_data"
    }
   ],
   "source": [
    "from sklearn.linear_model import LogisticRegression\n",
    "\n",
    "model = LogisticRegression(solver='lbfgs',max_iter=10000)\n",
    "\n",
    "model.fit(X_train, y_train)\n",
    "\n",
    "LR_prediction = model.predict(X_test)\n",
    "\n",
    "f1 = f1_score(LR_prediction,y_test)\n",
    "precision = precision_score(LR_prediction,y_test)\n",
    "recall = recall_score(LR_prediction,y_test)\n",
    "AUC = roc_auc_score(LR_prediction,y_test)\n",
    "\n",
    "data = np.array([[f1,precision,recall,AUC]])\n",
    "scores = pd.DataFrame(data, columns=['F1','precision','recall','AUC'])\n",
    "\n",
    "display(scores)\n"
   ]
  },
  {
   "attachments": {},
   "cell_type": "markdown",
   "metadata": {},
   "source": [
    "#### SVM"
   ]
  },
  {
   "cell_type": "code",
   "execution_count": 21,
   "metadata": {},
   "outputs": [
    {
     "data": {
      "text/html": [
       "<div>\n",
       "<style scoped>\n",
       "    .dataframe tbody tr th:only-of-type {\n",
       "        vertical-align: middle;\n",
       "    }\n",
       "\n",
       "    .dataframe tbody tr th {\n",
       "        vertical-align: top;\n",
       "    }\n",
       "\n",
       "    .dataframe thead th {\n",
       "        text-align: right;\n",
       "    }\n",
       "</style>\n",
       "<table border=\"1\" class=\"dataframe\">\n",
       "  <thead>\n",
       "    <tr style=\"text-align: right;\">\n",
       "      <th></th>\n",
       "      <th>F1</th>\n",
       "      <th>precision</th>\n",
       "      <th>recall</th>\n",
       "      <th>AUC</th>\n",
       "    </tr>\n",
       "  </thead>\n",
       "  <tbody>\n",
       "    <tr>\n",
       "      <th>0</th>\n",
       "      <td>0.855124</td>\n",
       "      <td>0.896296</td>\n",
       "      <td>0.817568</td>\n",
       "      <td>0.79403</td>\n",
       "    </tr>\n",
       "  </tbody>\n",
       "</table>\n",
       "</div>"
      ],
      "text/plain": [
       "         F1  precision    recall      AUC\n",
       "0  0.855124   0.896296  0.817568  0.79403"
      ]
     },
     "metadata": {},
     "output_type": "display_data"
    }
   ],
   "source": [
    "from sklearn.svm import SVC\n",
    "\n",
    "SVC_model = SVC()\n",
    "\n",
    "SVC_model.fit(X_train, y_train)\n",
    "\n",
    "SVC_prediction = SVC_model.predict(X_test)\n",
    "\n",
    "f1 = f1_score(SVC_prediction,y_test)\n",
    "precision = precision_score(SVC_prediction,y_test)\n",
    "recall = recall_score(SVC_prediction,y_test)\n",
    "AUC = roc_auc_score(SVC_prediction,y_test)\n",
    "\n",
    "data = np.array([[f1,precision,recall,AUC]])\n",
    "scores = pd.DataFrame(data, columns=['F1','precision','recall','AUC'])\n",
    "\n",
    "display(scores)"
   ]
  },
  {
   "attachments": {},
   "cell_type": "markdown",
   "metadata": {},
   "source": [
    "#### KNN"
   ]
  },
  {
   "cell_type": "code",
   "execution_count": 22,
   "metadata": {},
   "outputs": [
    {
     "data": {
      "text/html": [
       "<div>\n",
       "<style scoped>\n",
       "    .dataframe tbody tr th:only-of-type {\n",
       "        vertical-align: middle;\n",
       "    }\n",
       "\n",
       "    .dataframe tbody tr th {\n",
       "        vertical-align: top;\n",
       "    }\n",
       "\n",
       "    .dataframe thead th {\n",
       "        text-align: right;\n",
       "    }\n",
       "</style>\n",
       "<table border=\"1\" class=\"dataframe\">\n",
       "  <thead>\n",
       "    <tr style=\"text-align: right;\">\n",
       "      <th></th>\n",
       "      <th>F1</th>\n",
       "      <th>precision</th>\n",
       "      <th>recall</th>\n",
       "      <th>AUC</th>\n",
       "    </tr>\n",
       "  </thead>\n",
       "  <tbody>\n",
       "    <tr>\n",
       "      <th>0</th>\n",
       "      <td>0.801527</td>\n",
       "      <td>0.777778</td>\n",
       "      <td>0.826772</td>\n",
       "      <td>0.730459</td>\n",
       "    </tr>\n",
       "  </tbody>\n",
       "</table>\n",
       "</div>"
      ],
      "text/plain": [
       "         F1  precision    recall       AUC\n",
       "0  0.801527   0.777778  0.826772  0.730459"
      ]
     },
     "metadata": {},
     "output_type": "display_data"
    }
   ],
   "source": [
    "from sklearn.neighbors import KNeighborsClassifier\n",
    "\n",
    "KNN_model = KNeighborsClassifier(n_neighbors=5)\n",
    "\n",
    "KNN_model.fit(X_train, y_train)\n",
    "\n",
    "KNN_prediction = KNN_model.predict(X_test)\n",
    "\n",
    "f1 = f1_score(KNN_prediction,y_test)\n",
    "precision = precision_score(KNN_prediction,y_test)\n",
    "recall = recall_score(KNN_prediction,y_test)\n",
    "AUC = roc_auc_score(KNN_prediction,y_test)\n",
    "\n",
    "data = np.array([[f1,precision,recall,AUC]])\n",
    "scores = pd.DataFrame(data, columns=['F1','precision','recall','AUC'])\n",
    "\n",
    "display(scores)"
   ]
  },
  {
   "attachments": {},
   "cell_type": "markdown",
   "metadata": {},
   "source": [
    "### Feature selection"
   ]
  },
  {
   "attachments": {},
   "cell_type": "markdown",
   "metadata": {},
   "source": [
    "#### Correlation based feature selection"
   ]
  },
  {
   "cell_type": "code",
   "execution_count": 23,
   "metadata": {},
   "outputs": [],
   "source": [
    "from sklearn.feature_selection import SelectKBest\n",
    "from sklearn.feature_selection import f_classif\n",
    "\n",
    "X_train = train.drop('Class', axis=1)\n",
    "y_train = train['Class']\n",
    "\n",
    "X_test = train.drop('Class', axis=1)\n",
    "y_test = train['Class']\n",
    "\n",
    "# Create a SelectKBest object\n",
    "selector = SelectKBest(score_func=f_classif, k=10)\n",
    "\n",
    "# Fit the selector to the data and get the selected features\n",
    "X_corr_train = selector.fit_transform(X_train, y_train)\n",
    "X_corr_test = selector.transform(X_test)"
   ]
  },
  {
   "attachments": {},
   "cell_type": "markdown",
   "metadata": {},
   "source": [
    "Logical regression"
   ]
  },
  {
   "cell_type": "code",
   "execution_count": 24,
   "metadata": {},
   "outputs": [
    {
     "data": {
      "text/html": [
       "<div>\n",
       "<style scoped>\n",
       "    .dataframe tbody tr th:only-of-type {\n",
       "        vertical-align: middle;\n",
       "    }\n",
       "\n",
       "    .dataframe tbody tr th {\n",
       "        vertical-align: top;\n",
       "    }\n",
       "\n",
       "    .dataframe thead th {\n",
       "        text-align: right;\n",
       "    }\n",
       "</style>\n",
       "<table border=\"1\" class=\"dataframe\">\n",
       "  <thead>\n",
       "    <tr style=\"text-align: right;\">\n",
       "      <th></th>\n",
       "      <th>F1</th>\n",
       "      <th>precision</th>\n",
       "      <th>recall</th>\n",
       "      <th>AUC</th>\n",
       "    </tr>\n",
       "  </thead>\n",
       "  <tbody>\n",
       "    <tr>\n",
       "      <th>0</th>\n",
       "      <td>0.843803</td>\n",
       "      <td>0.881206</td>\n",
       "      <td>0.809446</td>\n",
       "      <td>0.760327</td>\n",
       "    </tr>\n",
       "  </tbody>\n",
       "</table>\n",
       "</div>"
      ],
      "text/plain": [
       "         F1  precision    recall       AUC\n",
       "0  0.843803   0.881206  0.809446  0.760327"
      ]
     },
     "metadata": {},
     "output_type": "display_data"
    }
   ],
   "source": [
    "model = LogisticRegression(solver='lbfgs',max_iter=10000)\n",
    "\n",
    "model.fit(X_corr_train, y_train)\n",
    "\n",
    "LR_prediction = model.predict(X_corr_test)\n",
    "\n",
    "f1 = f1_score(LR_prediction,y_test)\n",
    "precision = precision_score(LR_prediction,y_test)\n",
    "recall = recall_score(LR_prediction,y_test)\n",
    "AUC = roc_auc_score(LR_prediction,y_test)\n",
    "\n",
    "data = np.array([[f1,precision,recall,AUC]])\n",
    "scores = pd.DataFrame(data, columns=['F1','precision','recall','AUC'])\n",
    "\n",
    "display(scores)"
   ]
  },
  {
   "attachments": {},
   "cell_type": "markdown",
   "metadata": {},
   "source": [
    "SVM"
   ]
  },
  {
   "cell_type": "code",
   "execution_count": 25,
   "metadata": {},
   "outputs": [
    {
     "data": {
      "text/html": [
       "<div>\n",
       "<style scoped>\n",
       "    .dataframe tbody tr th:only-of-type {\n",
       "        vertical-align: middle;\n",
       "    }\n",
       "\n",
       "    .dataframe tbody tr th {\n",
       "        vertical-align: top;\n",
       "    }\n",
       "\n",
       "    .dataframe thead th {\n",
       "        text-align: right;\n",
       "    }\n",
       "</style>\n",
       "<table border=\"1\" class=\"dataframe\">\n",
       "  <thead>\n",
       "    <tr style=\"text-align: right;\">\n",
       "      <th></th>\n",
       "      <th>F1</th>\n",
       "      <th>precision</th>\n",
       "      <th>recall</th>\n",
       "      <th>AUC</th>\n",
       "    </tr>\n",
       "  </thead>\n",
       "  <tbody>\n",
       "    <tr>\n",
       "      <th>0</th>\n",
       "      <td>0.831752</td>\n",
       "      <td>0.85461</td>\n",
       "      <td>0.810084</td>\n",
       "      <td>0.741695</td>\n",
       "    </tr>\n",
       "  </tbody>\n",
       "</table>\n",
       "</div>"
      ],
      "text/plain": [
       "         F1  precision    recall       AUC\n",
       "0  0.831752    0.85461  0.810084  0.741695"
      ]
     },
     "metadata": {},
     "output_type": "display_data"
    }
   ],
   "source": [
    "SVC_model = SVC()\n",
    "\n",
    "SVC_model.fit(X_corr_train, y_train)\n",
    "\n",
    "SVC_prediction = SVC_model.predict(X_corr_test)\n",
    "\n",
    "f1 = f1_score(SVC_prediction,y_test)\n",
    "precision = precision_score(SVC_prediction,y_test)\n",
    "recall = recall_score(SVC_prediction,y_test)\n",
    "AUC = roc_auc_score(SVC_prediction,y_test)\n",
    "\n",
    "data = np.array([[f1,precision,recall,AUC]])\n",
    "scores = pd.DataFrame(data, columns=['F1','precision','recall','AUC'])\n",
    "\n",
    "display(scores)"
   ]
  },
  {
   "attachments": {},
   "cell_type": "markdown",
   "metadata": {},
   "source": [
    "KNN"
   ]
  },
  {
   "cell_type": "code",
   "execution_count": 26,
   "metadata": {},
   "outputs": [
    {
     "data": {
      "text/html": [
       "<div>\n",
       "<style scoped>\n",
       "    .dataframe tbody tr th:only-of-type {\n",
       "        vertical-align: middle;\n",
       "    }\n",
       "\n",
       "    .dataframe tbody tr th {\n",
       "        vertical-align: top;\n",
       "    }\n",
       "\n",
       "    .dataframe thead th {\n",
       "        text-align: right;\n",
       "    }\n",
       "</style>\n",
       "<table border=\"1\" class=\"dataframe\">\n",
       "  <thead>\n",
       "    <tr style=\"text-align: right;\">\n",
       "      <th></th>\n",
       "      <th>F1</th>\n",
       "      <th>precision</th>\n",
       "      <th>recall</th>\n",
       "      <th>AUC</th>\n",
       "    </tr>\n",
       "  </thead>\n",
       "  <tbody>\n",
       "    <tr>\n",
       "      <th>0</th>\n",
       "      <td>0.888688</td>\n",
       "      <td>0.870567</td>\n",
       "      <td>0.907579</td>\n",
       "      <td>0.834117</td>\n",
       "    </tr>\n",
       "  </tbody>\n",
       "</table>\n",
       "</div>"
      ],
      "text/plain": [
       "         F1  precision    recall       AUC\n",
       "0  0.888688   0.870567  0.907579  0.834117"
      ]
     },
     "metadata": {},
     "output_type": "display_data"
    }
   ],
   "source": [
    "KNN_model = KNeighborsClassifier(n_neighbors=5)\n",
    "\n",
    "KNN_model.fit(X_corr_train, y_train)\n",
    "\n",
    "KNN_prediction = KNN_model.predict(X_corr_test)\n",
    "\n",
    "f1 = f1_score(KNN_prediction,y_test)\n",
    "precision = precision_score(KNN_prediction,y_test)\n",
    "recall = recall_score(KNN_prediction,y_test)\n",
    "AUC = roc_auc_score(KNN_prediction,y_test)\n",
    "\n",
    "data = np.array([[f1,precision,recall,AUC]])\n",
    "scores = pd.DataFrame(data, columns=['F1','precision','recall','AUC'])\n",
    "\n",
    "display(scores)"
   ]
  },
  {
   "attachments": {},
   "cell_type": "markdown",
   "metadata": {},
   "source": [
    "#### Information gain feature selection"
   ]
  },
  {
   "cell_type": "code",
   "execution_count": 27,
   "metadata": {},
   "outputs": [],
   "source": [
    "from sklearn.feature_selection import mutual_info_classif\n",
    "\n",
    "# Calculate the information gain of each feature\n",
    "X_train = np.array(X_train)\n",
    "X_test = np.array(X_test)\n",
    "scores = mutual_info_classif(X_train, y)\n",
    "\n",
    "# Sort the features by their information gain and select the top 10\n",
    "sorted_indexes = np.argsort(scores)[::-1][:10]\n",
    "X_gain_train = X_train[:, sorted_indexes]\n",
    "X_gain_test = X_test[:, sorted_indexes]\n"
   ]
  },
  {
   "attachments": {},
   "cell_type": "markdown",
   "metadata": {},
   "source": [
    "Logical regression"
   ]
  },
  {
   "cell_type": "code",
   "execution_count": 28,
   "metadata": {},
   "outputs": [
    {
     "data": {
      "text/html": [
       "<div>\n",
       "<style scoped>\n",
       "    .dataframe tbody tr th:only-of-type {\n",
       "        vertical-align: middle;\n",
       "    }\n",
       "\n",
       "    .dataframe tbody tr th {\n",
       "        vertical-align: top;\n",
       "    }\n",
       "\n",
       "    .dataframe thead th {\n",
       "        text-align: right;\n",
       "    }\n",
       "</style>\n",
       "<table border=\"1\" class=\"dataframe\">\n",
       "  <thead>\n",
       "    <tr style=\"text-align: right;\">\n",
       "      <th></th>\n",
       "      <th>F1</th>\n",
       "      <th>precision</th>\n",
       "      <th>recall</th>\n",
       "      <th>AUC</th>\n",
       "    </tr>\n",
       "  </thead>\n",
       "  <tbody>\n",
       "    <tr>\n",
       "      <th>0</th>\n",
       "      <td>0.850847</td>\n",
       "      <td>0.890071</td>\n",
       "      <td>0.814935</td>\n",
       "      <td>0.772685</td>\n",
       "    </tr>\n",
       "  </tbody>\n",
       "</table>\n",
       "</div>"
      ],
      "text/plain": [
       "         F1  precision    recall       AUC\n",
       "0  0.850847   0.890071  0.814935  0.772685"
      ]
     },
     "metadata": {},
     "output_type": "display_data"
    }
   ],
   "source": [
    "model = LogisticRegression(solver='lbfgs',max_iter=10000)\n",
    "\n",
    "model.fit(X_gain_train, y_train)\n",
    "\n",
    "LR_prediction = model.predict(X_gain_test)\n",
    "\n",
    "f1 = f1_score(LR_prediction,y_test)\n",
    "precision = precision_score(LR_prediction,y_test)\n",
    "recall = recall_score(LR_prediction,y_test)\n",
    "AUC = roc_auc_score(LR_prediction,y_test)\n",
    "\n",
    "data = np.array([[f1,precision,recall,AUC]])\n",
    "scores = pd.DataFrame(data, columns=['F1','precision','recall','AUC'])\n",
    "\n",
    "display(scores)"
   ]
  },
  {
   "attachments": {},
   "cell_type": "markdown",
   "metadata": {},
   "source": [
    "SVM"
   ]
  },
  {
   "cell_type": "code",
   "execution_count": 29,
   "metadata": {},
   "outputs": [
    {
     "data": {
      "text/html": [
       "<div>\n",
       "<style scoped>\n",
       "    .dataframe tbody tr th:only-of-type {\n",
       "        vertical-align: middle;\n",
       "    }\n",
       "\n",
       "    .dataframe tbody tr th {\n",
       "        vertical-align: top;\n",
       "    }\n",
       "\n",
       "    .dataframe thead th {\n",
       "        text-align: right;\n",
       "    }\n",
       "</style>\n",
       "<table border=\"1\" class=\"dataframe\">\n",
       "  <thead>\n",
       "    <tr style=\"text-align: right;\">\n",
       "      <th></th>\n",
       "      <th>F1</th>\n",
       "      <th>precision</th>\n",
       "      <th>recall</th>\n",
       "      <th>AUC</th>\n",
       "    </tr>\n",
       "  </thead>\n",
       "  <tbody>\n",
       "    <tr>\n",
       "      <th>0</th>\n",
       "      <td>0.845</td>\n",
       "      <td>0.898936</td>\n",
       "      <td>0.79717</td>\n",
       "      <td>0.762871</td>\n",
       "    </tr>\n",
       "  </tbody>\n",
       "</table>\n",
       "</div>"
      ],
      "text/plain": [
       "      F1  precision   recall       AUC\n",
       "0  0.845   0.898936  0.79717  0.762871"
      ]
     },
     "metadata": {},
     "output_type": "display_data"
    }
   ],
   "source": [
    "SVC_model = SVC()\n",
    "\n",
    "SVC_model.fit(X_gain_train, y_train)\n",
    "\n",
    "SVC_prediction = SVC_model.predict(X_gain_test)\n",
    "\n",
    "f1 = f1_score(SVC_prediction,y_test)\n",
    "precision = precision_score(SVC_prediction,y_test)\n",
    "recall = recall_score(SVC_prediction,y_test)\n",
    "AUC = roc_auc_score(SVC_prediction,y_test)\n",
    "\n",
    "data = np.array([[f1,precision,recall,AUC]])\n",
    "scores = pd.DataFrame(data, columns=['F1','precision','recall','AUC'])\n",
    "\n",
    "display(scores)"
   ]
  },
  {
   "attachments": {},
   "cell_type": "markdown",
   "metadata": {},
   "source": [
    "KNN"
   ]
  },
  {
   "cell_type": "code",
   "execution_count": 30,
   "metadata": {},
   "outputs": [
    {
     "data": {
      "text/html": [
       "<div>\n",
       "<style scoped>\n",
       "    .dataframe tbody tr th:only-of-type {\n",
       "        vertical-align: middle;\n",
       "    }\n",
       "\n",
       "    .dataframe tbody tr th {\n",
       "        vertical-align: top;\n",
       "    }\n",
       "\n",
       "    .dataframe thead th {\n",
       "        text-align: right;\n",
       "    }\n",
       "</style>\n",
       "<table border=\"1\" class=\"dataframe\">\n",
       "  <thead>\n",
       "    <tr style=\"text-align: right;\">\n",
       "      <th></th>\n",
       "      <th>F1</th>\n",
       "      <th>precision</th>\n",
       "      <th>recall</th>\n",
       "      <th>AUC</th>\n",
       "    </tr>\n",
       "  </thead>\n",
       "  <tbody>\n",
       "    <tr>\n",
       "      <th>0</th>\n",
       "      <td>0.898836</td>\n",
       "      <td>0.890071</td>\n",
       "      <td>0.907776</td>\n",
       "      <td>0.848086</td>\n",
       "    </tr>\n",
       "  </tbody>\n",
       "</table>\n",
       "</div>"
      ],
      "text/plain": [
       "         F1  precision    recall       AUC\n",
       "0  0.898836   0.890071  0.907776  0.848086"
      ]
     },
     "metadata": {},
     "output_type": "display_data"
    }
   ],
   "source": [
    "KNN_model = KNeighborsClassifier(n_neighbors=5)\n",
    "\n",
    "KNN_model.fit(X_gain_train, y_train)\n",
    "\n",
    "KNN_prediction = KNN_model.predict(X_gain_test)\n",
    "\n",
    "f1 = f1_score(KNN_prediction,y_test)\n",
    "precision = precision_score(KNN_prediction,y_test)\n",
    "recall = recall_score(KNN_prediction,y_test)\n",
    "AUC = roc_auc_score(KNN_prediction,y_test)\n",
    "\n",
    "data = np.array([[f1,precision,recall,AUC]])\n",
    "scores = pd.DataFrame(data, columns=['F1','precision','recall','AUC'])\n",
    "\n",
    "display(scores)"
   ]
  },
  {
   "attachments": {},
   "cell_type": "markdown",
   "metadata": {},
   "source": [
    "#### Lasso feature selection"
   ]
  },
  {
   "cell_type": "code",
   "execution_count": 31,
   "metadata": {},
   "outputs": [],
   "source": [
    "from sklearn.linear_model import LassoCV\n",
    "\n",
    "# Fit the model to the data\n",
    "selector = LassoCV()\n",
    "selector.fit(X, y)\n",
    "\n",
    "# Get the indices of the most important features\n",
    "important_feature_indices = selector.coef_ != 0\n",
    "\n",
    "# Select the most important features\n",
    "X_lasso_train = X_train[:, important_feature_indices]\n",
    "X_lasso_test = X_test[:, important_feature_indices]"
   ]
  },
  {
   "attachments": {},
   "cell_type": "markdown",
   "metadata": {},
   "source": [
    "Logistic regression"
   ]
  },
  {
   "cell_type": "code",
   "execution_count": 32,
   "metadata": {},
   "outputs": [
    {
     "data": {
      "text/html": [
       "<div>\n",
       "<style scoped>\n",
       "    .dataframe tbody tr th:only-of-type {\n",
       "        vertical-align: middle;\n",
       "    }\n",
       "\n",
       "    .dataframe tbody tr th {\n",
       "        vertical-align: top;\n",
       "    }\n",
       "\n",
       "    .dataframe thead th {\n",
       "        text-align: right;\n",
       "    }\n",
       "</style>\n",
       "<table border=\"1\" class=\"dataframe\">\n",
       "  <thead>\n",
       "    <tr style=\"text-align: right;\">\n",
       "      <th></th>\n",
       "      <th>F1</th>\n",
       "      <th>precision</th>\n",
       "      <th>recall</th>\n",
       "      <th>AUC</th>\n",
       "    </tr>\n",
       "  </thead>\n",
       "  <tbody>\n",
       "    <tr>\n",
       "      <th>0</th>\n",
       "      <td>0.917399</td>\n",
       "      <td>0.925532</td>\n",
       "      <td>0.909408</td>\n",
       "      <td>0.877498</td>\n",
       "    </tr>\n",
       "  </tbody>\n",
       "</table>\n",
       "</div>"
      ],
      "text/plain": [
       "         F1  precision    recall       AUC\n",
       "0  0.917399   0.925532  0.909408  0.877498"
      ]
     },
     "metadata": {},
     "output_type": "display_data"
    }
   ],
   "source": [
    "model = LogisticRegression(solver='lbfgs',max_iter=10000)\n",
    "\n",
    "model.fit(X_lasso_train, y_train)\n",
    "\n",
    "LR_prediction = model.predict(X_lasso_test)\n",
    "\n",
    "f1 = f1_score(LR_prediction,y_test)\n",
    "precision = precision_score(LR_prediction,y_test)\n",
    "recall = recall_score(LR_prediction,y_test)\n",
    "AUC = roc_auc_score(LR_prediction,y_test)\n",
    "\n",
    "data = np.array([[f1,precision,recall,AUC]])\n",
    "scores = pd.DataFrame(data, columns=['F1','precision','recall','AUC'])\n",
    "\n",
    "display(scores)"
   ]
  },
  {
   "attachments": {},
   "cell_type": "markdown",
   "metadata": {},
   "source": [
    "SVM"
   ]
  },
  {
   "cell_type": "code",
   "execution_count": 33,
   "metadata": {},
   "outputs": [
    {
     "data": {
      "text/html": [
       "<div>\n",
       "<style scoped>\n",
       "    .dataframe tbody tr th:only-of-type {\n",
       "        vertical-align: middle;\n",
       "    }\n",
       "\n",
       "    .dataframe tbody tr th {\n",
       "        vertical-align: top;\n",
       "    }\n",
       "\n",
       "    .dataframe thead th {\n",
       "        text-align: right;\n",
       "    }\n",
       "</style>\n",
       "<table border=\"1\" class=\"dataframe\">\n",
       "  <thead>\n",
       "    <tr style=\"text-align: right;\">\n",
       "      <th></th>\n",
       "      <th>F1</th>\n",
       "      <th>precision</th>\n",
       "      <th>recall</th>\n",
       "      <th>AUC</th>\n",
       "    </tr>\n",
       "  </thead>\n",
       "  <tbody>\n",
       "    <tr>\n",
       "      <th>0</th>\n",
       "      <td>0.877398</td>\n",
       "      <td>0.932624</td>\n",
       "      <td>0.828346</td>\n",
       "      <td>0.824126</td>\n",
       "    </tr>\n",
       "  </tbody>\n",
       "</table>\n",
       "</div>"
      ],
      "text/plain": [
       "         F1  precision    recall       AUC\n",
       "0  0.877398   0.932624  0.828346  0.824126"
      ]
     },
     "metadata": {},
     "output_type": "display_data"
    }
   ],
   "source": [
    "SVC_model = SVC()\n",
    "\n",
    "SVC_model.fit(X_lasso_train, y_train)\n",
    "\n",
    "SVC_prediction = SVC_model.predict(X_lasso_test)\n",
    "\n",
    "f1 = f1_score(SVC_prediction,y_test)\n",
    "precision = precision_score(SVC_prediction,y_test)\n",
    "recall = recall_score(SVC_prediction,y_test)\n",
    "AUC = roc_auc_score(SVC_prediction,y_test)\n",
    "\n",
    "data = np.array([[f1,precision,recall,AUC]])\n",
    "scores = pd.DataFrame(data, columns=['F1','precision','recall','AUC'])\n",
    "\n",
    "display(scores)"
   ]
  },
  {
   "attachments": {},
   "cell_type": "markdown",
   "metadata": {},
   "source": [
    "KNN"
   ]
  },
  {
   "cell_type": "code",
   "execution_count": 34,
   "metadata": {},
   "outputs": [
    {
     "data": {
      "text/html": [
       "<div>\n",
       "<style scoped>\n",
       "    .dataframe tbody tr th:only-of-type {\n",
       "        vertical-align: middle;\n",
       "    }\n",
       "\n",
       "    .dataframe tbody tr th {\n",
       "        vertical-align: top;\n",
       "    }\n",
       "\n",
       "    .dataframe thead th {\n",
       "        text-align: right;\n",
       "    }\n",
       "</style>\n",
       "<table border=\"1\" class=\"dataframe\">\n",
       "  <thead>\n",
       "    <tr style=\"text-align: right;\">\n",
       "      <th></th>\n",
       "      <th>F1</th>\n",
       "      <th>precision</th>\n",
       "      <th>recall</th>\n",
       "      <th>AUC</th>\n",
       "    </tr>\n",
       "  </thead>\n",
       "  <tbody>\n",
       "    <tr>\n",
       "      <th>0</th>\n",
       "      <td>0.910714</td>\n",
       "      <td>0.904255</td>\n",
       "      <td>0.917266</td>\n",
       "      <td>0.86553</td>\n",
       "    </tr>\n",
       "  </tbody>\n",
       "</table>\n",
       "</div>"
      ],
      "text/plain": [
       "         F1  precision    recall      AUC\n",
       "0  0.910714   0.904255  0.917266  0.86553"
      ]
     },
     "metadata": {},
     "output_type": "display_data"
    }
   ],
   "source": [
    "KNN_model = KNeighborsClassifier(n_neighbors=5)\n",
    "\n",
    "KNN_model.fit(X_lasso_train, y_train)\n",
    "\n",
    "KNN_prediction = KNN_model.predict(X_lasso_test)\n",
    "\n",
    "f1 = f1_score(KNN_prediction,y_test)\n",
    "precision = precision_score(KNN_prediction,y_test)\n",
    "recall = recall_score(KNN_prediction,y_test)\n",
    "AUC = roc_auc_score(KNN_prediction,y_test)\n",
    "\n",
    "data = np.array([[f1,precision,recall,AUC]])\n",
    "scores = pd.DataFrame(data, columns=['F1','precision','recall','AUC'])\n",
    "\n",
    "display(scores)"
   ]
  },
  {
   "cell_type": "markdown",
   "metadata": {},
   "source": [
    "## Evaluation"
   ]
  },
  {
   "cell_type": "markdown",
   "metadata": {},
   "source": [
    "### K-fold Cross validation"
   ]
  },
  {
   "cell_type": "code",
   "execution_count": 73,
   "metadata": {},
   "outputs": [],
   "source": [
    "from numpy import mean\n",
    "from numpy import std\n",
    "\n",
    "from sklearn.model_selection import RepeatedKFold\n",
    "from sklearn.model_selection import cross_validate\n",
    "\n",
    "def k_fold_corss_validation(model):\n",
    "    # prepare the cross-validation procedure\n",
    "    cv = RepeatedKFold(n_splits=10, n_repeats=5, random_state=1)\n",
    "    # create model\n",
    "    modelSVM = SVC()\n",
    "    X = X_lasso_train\n",
    "    y = y_train\n",
    "\n",
    "    #scoring\n",
    "    scoring = ('f1', 'precision', 'recall', 'roc_auc')\n",
    "    # evaluate model\n",
    "    results = cross_validate(model, X, y, scoring=scoring, cv=cv, n_jobs=-1)\n",
    " \n",
    "    f1_mean = mean(results['test_f1'])\n",
    "    precision_mean = mean(results['test_precision'])\n",
    "    recall_mean = mean(results['test_recall'])\n",
    "    auc_mean = mean(results['test_roc_auc'])\n",
    "    \n",
    "    f1_std = std(results['test_f1'])\n",
    "    precision_std = std(results['test_precision'])\n",
    "    recall_std = std(results['test_recall'])\n",
    "    auc_std = std(results['test_roc_auc'])\n",
    "\n",
    "    data = np.array([[f1_mean,precision_mean,recall_mean,auc_mean],\n",
    "                     [f1_std,precision_std,recall_std,auc_std]])\n",
    "    scores = pd.DataFrame(data, columns=['F1','precision','recall','AUC'])\n",
    "    scores.index = ['mean', 'std']\n",
    "    display(scores)"
   ]
  },
  {
   "cell_type": "markdown",
   "metadata": {},
   "source": [
    "#### Logistic regression - K-fold Cross validation on train set"
   ]
  },
  {
   "cell_type": "code",
   "execution_count": 74,
   "metadata": {},
   "outputs": [
    {
     "data": {
      "text/html": [
       "<div>\n",
       "<style scoped>\n",
       "    .dataframe tbody tr th:only-of-type {\n",
       "        vertical-align: middle;\n",
       "    }\n",
       "\n",
       "    .dataframe tbody tr th {\n",
       "        vertical-align: top;\n",
       "    }\n",
       "\n",
       "    .dataframe thead th {\n",
       "        text-align: right;\n",
       "    }\n",
       "</style>\n",
       "<table border=\"1\" class=\"dataframe\">\n",
       "  <thead>\n",
       "    <tr style=\"text-align: right;\">\n",
       "      <th></th>\n",
       "      <th>F1</th>\n",
       "      <th>precision</th>\n",
       "      <th>recall</th>\n",
       "      <th>AUC</th>\n",
       "    </tr>\n",
       "  </thead>\n",
       "  <tbody>\n",
       "    <tr>\n",
       "      <th>mean</th>\n",
       "      <td>0.905198</td>\n",
       "      <td>0.899681</td>\n",
       "      <td>0.912049</td>\n",
       "      <td>0.925658</td>\n",
       "    </tr>\n",
       "    <tr>\n",
       "      <th>std</th>\n",
       "      <td>0.027602</td>\n",
       "      <td>0.037972</td>\n",
       "      <td>0.034550</td>\n",
       "      <td>0.031780</td>\n",
       "    </tr>\n",
       "  </tbody>\n",
       "</table>\n",
       "</div>"
      ],
      "text/plain": [
       "            F1  precision    recall       AUC\n",
       "mean  0.905198   0.899681  0.912049  0.925658\n",
       "std   0.027602   0.037972  0.034550  0.031780"
      ]
     },
     "metadata": {},
     "output_type": "display_data"
    }
   ],
   "source": [
    "modelLR = LogisticRegression(solver='lbfgs',max_iter=10000)\n",
    "k_fold_corss_validation(modelLR)"
   ]
  },
  {
   "cell_type": "markdown",
   "metadata": {},
   "source": [
    "#### SVM - K-fold Cross validation on train set"
   ]
  },
  {
   "cell_type": "code",
   "execution_count": 75,
   "metadata": {},
   "outputs": [
    {
     "data": {
      "text/html": [
       "<div>\n",
       "<style scoped>\n",
       "    .dataframe tbody tr th:only-of-type {\n",
       "        vertical-align: middle;\n",
       "    }\n",
       "\n",
       "    .dataframe tbody tr th {\n",
       "        vertical-align: top;\n",
       "    }\n",
       "\n",
       "    .dataframe thead th {\n",
       "        text-align: right;\n",
       "    }\n",
       "</style>\n",
       "<table border=\"1\" class=\"dataframe\">\n",
       "  <thead>\n",
       "    <tr style=\"text-align: right;\">\n",
       "      <th></th>\n",
       "      <th>F1</th>\n",
       "      <th>precision</th>\n",
       "      <th>recall</th>\n",
       "      <th>AUC</th>\n",
       "    </tr>\n",
       "  </thead>\n",
       "  <tbody>\n",
       "    <tr>\n",
       "      <th>mean</th>\n",
       "      <td>0.863793</td>\n",
       "      <td>0.810477</td>\n",
       "      <td>0.927364</td>\n",
       "      <td>0.883485</td>\n",
       "    </tr>\n",
       "    <tr>\n",
       "      <th>std</th>\n",
       "      <td>0.035391</td>\n",
       "      <td>0.055156</td>\n",
       "      <td>0.030769</td>\n",
       "      <td>0.034679</td>\n",
       "    </tr>\n",
       "  </tbody>\n",
       "</table>\n",
       "</div>"
      ],
      "text/plain": [
       "            F1  precision    recall       AUC\n",
       "mean  0.863793   0.810477  0.927364  0.883485\n",
       "std   0.035391   0.055156  0.030769  0.034679"
      ]
     },
     "metadata": {},
     "output_type": "display_data"
    }
   ],
   "source": [
    "modelSVM = SVC()\n",
    "k_fold_corss_validation(modelSVM)"
   ]
  },
  {
   "cell_type": "markdown",
   "metadata": {},
   "source": [
    "#### KNN - K-fold Cross validation on train set"
   ]
  },
  {
   "cell_type": "code",
   "execution_count": 76,
   "metadata": {},
   "outputs": [
    {
     "data": {
      "text/html": [
       "<div>\n",
       "<style scoped>\n",
       "    .dataframe tbody tr th:only-of-type {\n",
       "        vertical-align: middle;\n",
       "    }\n",
       "\n",
       "    .dataframe tbody tr th {\n",
       "        vertical-align: top;\n",
       "    }\n",
       "\n",
       "    .dataframe thead th {\n",
       "        text-align: right;\n",
       "    }\n",
       "</style>\n",
       "<table border=\"1\" class=\"dataframe\">\n",
       "  <thead>\n",
       "    <tr style=\"text-align: right;\">\n",
       "      <th></th>\n",
       "      <th>F1</th>\n",
       "      <th>precision</th>\n",
       "      <th>recall</th>\n",
       "      <th>AUC</th>\n",
       "    </tr>\n",
       "  </thead>\n",
       "  <tbody>\n",
       "    <tr>\n",
       "      <th>mean</th>\n",
       "      <td>0.859303</td>\n",
       "      <td>0.876528</td>\n",
       "      <td>0.844515</td>\n",
       "      <td>0.881529</td>\n",
       "    </tr>\n",
       "    <tr>\n",
       "      <th>std</th>\n",
       "      <td>0.035593</td>\n",
       "      <td>0.048417</td>\n",
       "      <td>0.042465</td>\n",
       "      <td>0.036064</td>\n",
       "    </tr>\n",
       "  </tbody>\n",
       "</table>\n",
       "</div>"
      ],
      "text/plain": [
       "            F1  precision    recall       AUC\n",
       "mean  0.859303   0.876528  0.844515  0.881529\n",
       "std   0.035593   0.048417  0.042465  0.036064"
      ]
     },
     "metadata": {},
     "output_type": "display_data"
    }
   ],
   "source": [
    "modelKNN = KNeighborsClassifier(n_neighbors=5)\n",
    "k_fold_corss_validation(modelKNN)"
   ]
  },
  {
   "cell_type": "markdown",
   "metadata": {},
   "source": [
    "#### Prediction on Test set\n",
    "For prediction on test set we will use Logistic Regression, since it has the best results in k-fold cross validation"
   ]
  },
  {
   "cell_type": "code",
   "execution_count": null,
   "metadata": {},
   "outputs": [],
   "source": [
    "model = LogisticRegression(solver='lbfgs',max_iter=10000)\n",
    "model.fit(X_lasso_train, y_train)\n",
    "LR_prediction = model.predict(X_lasso_test)\n",
    "\n",
    "f1 = f1_score(LR_prediction,y_test)\n",
    "precision = precision_score(LR_prediction,y_test)\n",
    "recall = recall_score(LR_prediction,y_test)\n",
    "AUC = roc_auc_score(LR_prediction,y_test)\n",
    "\n",
    "data = np.array([[f1,precision,recall,AUC]])\n",
    "scores = pd.DataFrame(data, columns=['F1','precision','recall','AUC'])\n",
    "\n",
    "display(scores)"
   ]
  }
 ],
 "metadata": {
  "kernelspec": {
   "display_name": "Python 3.9.10 64-bit",
   "language": "python",
   "name": "python3"
  },
  "language_info": {
   "codemirror_mode": {
    "name": "ipython",
    "version": 3
   },
   "file_extension": ".py",
   "mimetype": "text/x-python",
   "name": "python",
   "nbconvert_exporter": "python",
   "pygments_lexer": "ipython3",
   "version": "3.9.10"
  },
  "orig_nbformat": 4,
  "vscode": {
   "interpreter": {
    "hash": "aee8b7b246df8f9039afb4144a1f6fd8d2ca17a180786b69acc140d282b71a49"
   }
  }
 },
 "nbformat": 4,
 "nbformat_minor": 2
}
