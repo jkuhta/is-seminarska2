{
 "cells": [
  {
   "attachments": {},
   "cell_type": "markdown",
   "metadata": {},
   "source": [
    "## Seminar 2: Predicting Biodegradability of Chemicals\n",
    "### Intelligent Systems (IS), 8.1.2023\n",
    "### Rok Rajher, Jan Kuhta"
   ]
  },
  {
   "attachments": {},
   "cell_type": "markdown",
   "metadata": {},
   "source": [
    "## Exploration"
   ]
  },
  {
   "attachments": {},
   "cell_type": "markdown",
   "metadata": {},
   "source": [
    "#### Loading datasets"
   ]
  },
  {
   "cell_type": "code",
   "execution_count": 1505,
   "metadata": {},
   "outputs": [
    {
     "data": {
      "text/html": [
       "<div>\n",
       "<style scoped>\n",
       "    .dataframe tbody tr th:only-of-type {\n",
       "        vertical-align: middle;\n",
       "    }\n",
       "\n",
       "    .dataframe tbody tr th {\n",
       "        vertical-align: top;\n",
       "    }\n",
       "\n",
       "    .dataframe thead th {\n",
       "        text-align: right;\n",
       "    }\n",
       "</style>\n",
       "<table border=\"1\" class=\"dataframe\">\n",
       "  <thead>\n",
       "    <tr style=\"text-align: right;\">\n",
       "      <th></th>\n",
       "      <th>V1</th>\n",
       "      <th>V2</th>\n",
       "      <th>V3</th>\n",
       "      <th>V4</th>\n",
       "      <th>V5</th>\n",
       "      <th>V6</th>\n",
       "      <th>V7</th>\n",
       "      <th>V8</th>\n",
       "      <th>V9</th>\n",
       "      <th>V10</th>\n",
       "      <th>...</th>\n",
       "      <th>V33</th>\n",
       "      <th>V34</th>\n",
       "      <th>V35</th>\n",
       "      <th>V36</th>\n",
       "      <th>V37</th>\n",
       "      <th>V38</th>\n",
       "      <th>V39</th>\n",
       "      <th>V40</th>\n",
       "      <th>V41</th>\n",
       "      <th>Class</th>\n",
       "    </tr>\n",
       "  </thead>\n",
       "  <tbody>\n",
       "    <tr>\n",
       "      <th>1</th>\n",
       "      <td>3.919</td>\n",
       "      <td>2.6909</td>\n",
       "      <td>0</td>\n",
       "      <td>0</td>\n",
       "      <td>0</td>\n",
       "      <td>0</td>\n",
       "      <td>0</td>\n",
       "      <td>31.4</td>\n",
       "      <td>2</td>\n",
       "      <td>0</td>\n",
       "      <td>...</td>\n",
       "      <td>0</td>\n",
       "      <td>0</td>\n",
       "      <td>0</td>\n",
       "      <td>2.949</td>\n",
       "      <td>1.591</td>\n",
       "      <td>0</td>\n",
       "      <td>7.253</td>\n",
       "      <td>0</td>\n",
       "      <td>0</td>\n",
       "      <td>2</td>\n",
       "    </tr>\n",
       "    <tr>\n",
       "      <th>2</th>\n",
       "      <td>4.170</td>\n",
       "      <td>2.1144</td>\n",
       "      <td>0</td>\n",
       "      <td>0</td>\n",
       "      <td>0</td>\n",
       "      <td>0</td>\n",
       "      <td>0</td>\n",
       "      <td>30.8</td>\n",
       "      <td>1</td>\n",
       "      <td>1</td>\n",
       "      <td>...</td>\n",
       "      <td>0</td>\n",
       "      <td>0</td>\n",
       "      <td>0</td>\n",
       "      <td>3.315</td>\n",
       "      <td>1.967</td>\n",
       "      <td>0</td>\n",
       "      <td>7.257</td>\n",
       "      <td>0</td>\n",
       "      <td>0</td>\n",
       "      <td>2</td>\n",
       "    </tr>\n",
       "    <tr>\n",
       "      <th>4</th>\n",
       "      <td>3.000</td>\n",
       "      <td>2.7098</td>\n",
       "      <td>0</td>\n",
       "      <td>0</td>\n",
       "      <td>0</td>\n",
       "      <td>0</td>\n",
       "      <td>0</td>\n",
       "      <td>20.0</td>\n",
       "      <td>0</td>\n",
       "      <td>2</td>\n",
       "      <td>...</td>\n",
       "      <td>0</td>\n",
       "      <td>0</td>\n",
       "      <td>1</td>\n",
       "      <td>3.046</td>\n",
       "      <td>5.000</td>\n",
       "      <td>0</td>\n",
       "      <td>6.690</td>\n",
       "      <td>0</td>\n",
       "      <td>0</td>\n",
       "      <td>2</td>\n",
       "    </tr>\n",
       "    <tr>\n",
       "      <th>13</th>\n",
       "      <td>4.214</td>\n",
       "      <td>2.6272</td>\n",
       "      <td>0</td>\n",
       "      <td>0</td>\n",
       "      <td>0</td>\n",
       "      <td>0</td>\n",
       "      <td>0</td>\n",
       "      <td>30.0</td>\n",
       "      <td>3</td>\n",
       "      <td>0</td>\n",
       "      <td>...</td>\n",
       "      <td>0</td>\n",
       "      <td>0</td>\n",
       "      <td>0</td>\n",
       "      <td>2.998</td>\n",
       "      <td>1.722</td>\n",
       "      <td>0</td>\n",
       "      <td>6.770</td>\n",
       "      <td>0</td>\n",
       "      <td>0</td>\n",
       "      <td>2</td>\n",
       "    </tr>\n",
       "    <tr>\n",
       "      <th>16</th>\n",
       "      <td>3.942</td>\n",
       "      <td>2.7719</td>\n",
       "      <td>1</td>\n",
       "      <td>0</td>\n",
       "      <td>0</td>\n",
       "      <td>0</td>\n",
       "      <td>0</td>\n",
       "      <td>31.6</td>\n",
       "      <td>2</td>\n",
       "      <td>0</td>\n",
       "      <td>...</td>\n",
       "      <td>0</td>\n",
       "      <td>0</td>\n",
       "      <td>0</td>\n",
       "      <td>3.542</td>\n",
       "      <td>1.739</td>\n",
       "      <td>0</td>\n",
       "      <td>8.127</td>\n",
       "      <td>0</td>\n",
       "      <td>1</td>\n",
       "      <td>2</td>\n",
       "    </tr>\n",
       "  </tbody>\n",
       "</table>\n",
       "<p>5 rows × 42 columns</p>\n",
       "</div>"
      ],
      "text/plain": [
       "       V1      V2  V3  V4  V5  V6  V7    V8  V9  V10  ...  V33  V34  V35  \\\n",
       "1   3.919  2.6909   0   0   0   0   0  31.4   2    0  ...    0    0    0   \n",
       "2   4.170  2.1144   0   0   0   0   0  30.8   1    1  ...    0    0    0   \n",
       "4   3.000  2.7098   0   0   0   0   0  20.0   0    2  ...    0    0    1   \n",
       "13  4.214  2.6272   0   0   0   0   0  30.0   3    0  ...    0    0    0   \n",
       "16  3.942  2.7719   1   0   0   0   0  31.6   2    0  ...    0    0    0   \n",
       "\n",
       "      V36    V37  V38    V39  V40  V41  Class  \n",
       "1   2.949  1.591    0  7.253    0    0      2  \n",
       "2   3.315  1.967    0  7.257    0    0      2  \n",
       "4   3.046  5.000    0  6.690    0    0      2  \n",
       "13  2.998  1.722    0  6.770    0    0      2  \n",
       "16  3.542  1.739    0  8.127    0    1      2  \n",
       "\n",
       "[5 rows x 42 columns]"
      ]
     },
     "execution_count": 1505,
     "metadata": {},
     "output_type": "execute_result"
    }
   ],
   "source": [
    "import pandas as pd\n",
    "import numpy as np\n",
    "import matplotlib.pyplot as plt\n",
    "\n",
    "test = pd.read_csv(\"./test.csv\")\n",
    "train = pd.read_csv(\"./train.csv\")\n",
    "\n",
    "test.head()\n"
   ]
  },
  {
   "attachments": {},
   "cell_type": "markdown",
   "metadata": {},
   "source": [
    "#### Balance of target class"
   ]
  },
  {
   "cell_type": "code",
   "execution_count": 1506,
   "metadata": {},
   "outputs": [
    {
     "name": "stdout",
     "output_type": "stream",
     "text": [
      "1    564\n",
      "2    282\n",
      "Name: Class, dtype: int64\n",
      "1    0.666667\n",
      "2    0.333333\n",
      "Name: Class, dtype: float64\n"
     ]
    }
   ],
   "source": [
    "cnt = train['Class'].value_counts()\n",
    "\n",
    "print(cnt)\n",
    "print(cnt / len(train))"
   ]
  },
  {
   "attachments": {},
   "cell_type": "markdown",
   "metadata": {},
   "source": [
    "#### Finding columns with NaN values"
   ]
  },
  {
   "cell_type": "code",
   "execution_count": 1507,
   "metadata": {},
   "outputs": [
    {
     "data": {
      "text/plain": [
       "Index(['V4', 'V22', 'V27', 'V29', 'V37'], dtype='object')"
      ]
     },
     "metadata": {},
     "output_type": "display_data"
    }
   ],
   "source": [
    "cols_with_nan = train.columns[train.isnull().any()]\n",
    "display(cols_with_nan)\n"
   ]
  },
  {
   "attachments": {},
   "cell_type": "markdown",
   "metadata": {},
   "source": [
    "#### Replacing NaN values in column \"V4\""
   ]
  },
  {
   "cell_type": "code",
   "execution_count": 1508,
   "metadata": {},
   "outputs": [
    {
     "name": "stdout",
     "output_type": "stream",
     "text": [
      "0.0: 800\n",
      "1.0: 17\n",
      "2.0: 4\n",
      "nan: 25\n"
     ]
    }
   ],
   "source": [
    "v4 = train['V4'].values\n",
    "unique_values, counts = np.unique(v4, return_counts=True)\n",
    "\n",
    "for value, count in zip(unique_values, counts):\n",
    "    print(f\"{value}: {count}\")"
   ]
  },
  {
   "attachments": {},
   "cell_type": "markdown",
   "metadata": {},
   "source": [
    "Because most of the values in column \"V4\" are 0, replacing NaN values with 0 seems most suitable.\n"
   ]
  },
  {
   "cell_type": "code",
   "execution_count": 1509,
   "metadata": {},
   "outputs": [],
   "source": [
    "test['V4'] = test['V4'].fillna(0)\n",
    "train['V4'] = train['V4'].fillna(0)"
   ]
  },
  {
   "attachments": {},
   "cell_type": "markdown",
   "metadata": {},
   "source": [
    "#### Replacing NaN values in column \"V22\""
   ]
  },
  {
   "cell_type": "code",
   "execution_count": 1510,
   "metadata": {},
   "outputs": [
    {
     "name": "stdout",
     "output_type": "stream",
     "text": [
      "0.898: 1\n",
      "0.906: 3\n",
      "0.911: 1\n",
      "0.995: 1\n",
      "0.999: 1\n"
     ]
    }
   ],
   "source": [
    "v4 = train['V22'].values\n",
    "unique_values, counts = np.unique(v4, return_counts=True)\n",
    "\n",
    "for value, count in zip(unique_values[:5], counts[:5]):\n",
    "    print(f\"{value}: {count}\")"
   ]
  },
  {
   "attachments": {},
   "cell_type": "markdown",
   "metadata": {},
   "source": [
    "Sinse most of the values in column \"V22\" are unique real numbers, replacing NaN values with mean of the column seems most suitable."
   ]
  },
  {
   "cell_type": "code",
   "execution_count": 1511,
   "metadata": {},
   "outputs": [],
   "source": [
    "mean_value_test = test['V22'].mean()\n",
    "mean_value_train = train['V22'].mean()\n",
    "\n",
    "\n",
    "test['V22'] = test['V22'].fillna(mean_value_test)\n",
    "train['V22'] = train['V22'].fillna(mean_value_train)"
   ]
  },
  {
   "attachments": {},
   "cell_type": "markdown",
   "metadata": {},
   "source": [
    "#### Replacing NaN values in column \"V27\""
   ]
  },
  {
   "cell_type": "code",
   "execution_count": 1512,
   "metadata": {},
   "outputs": [
    {
     "name": "stdout",
     "output_type": "stream",
     "text": [
      "1.0: 1\n",
      "1.414: 7\n",
      "1.618: 10\n",
      "1.732: 16\n",
      "1.802: 8\n"
     ]
    }
   ],
   "source": [
    "v4 = train['V27'].values\n",
    "unique_values, counts = np.unique(v4, return_counts=True)\n",
    "for value, count in zip(unique_values[:5], counts[:5]):\n",
    "    print(f\"{value}: {count}\")"
   ]
  },
  {
   "attachments": {},
   "cell_type": "markdown",
   "metadata": {},
   "source": [
    "Similarly to column \"V22\", this column is represented by many unique real values, therefore the mean values seems the most suitable again."
   ]
  },
  {
   "cell_type": "code",
   "execution_count": 1513,
   "metadata": {},
   "outputs": [],
   "source": [
    "mean_value_test = test['V27'].mean()\n",
    "mean_value_train = train['V27'].mean()\n",
    "\n",
    "\n",
    "test['V27'] = test['V27'].fillna(mean_value_test)\n",
    "train['V27'] = train['V27'].fillna(mean_value_train)"
   ]
  },
  {
   "attachments": {},
   "cell_type": "markdown",
   "metadata": {},
   "source": [
    "#### Replacing NaN values in column \"V29\""
   ]
  },
  {
   "cell_type": "code",
   "execution_count": 1514,
   "metadata": {},
   "outputs": [
    {
     "name": "stdout",
     "output_type": "stream",
     "text": [
      "0.0: 817\n",
      "1.0: 21\n",
      "nan: 8\n"
     ]
    }
   ],
   "source": [
    "v29 = train['V29'].values\n",
    "unique_values, counts = np.unique(v29, return_counts=True)\n",
    "for value, count in zip(unique_values[:5], counts[:5]):\n",
    "    print(f\"{value}: {count}\")"
   ]
  },
  {
   "attachments": {},
   "cell_type": "markdown",
   "metadata": {},
   "source": [
    "This column only containts whole numbers 0 and 1, with 0 being by far the most represented value in the column, therefore replacing NaN with 0 seems most optimal here."
   ]
  },
  {
   "cell_type": "code",
   "execution_count": 1515,
   "metadata": {},
   "outputs": [],
   "source": [
    "test['V29'] = test['V29'].fillna(0)\n",
    "train['V29'] = train['V29'].fillna(0)"
   ]
  },
  {
   "attachments": {},
   "cell_type": "markdown",
   "metadata": {},
   "source": [
    "#### Replacing NaN values in column \"V37\""
   ]
  },
  {
   "cell_type": "code",
   "execution_count": 1516,
   "metadata": {},
   "outputs": [
    {
     "name": "stdout",
     "output_type": "stream",
     "text": [
      "1.467: 1\n",
      "1.5: 2\n",
      "1.528: 1\n",
      "1.55: 1\n",
      "1.551: 1\n"
     ]
    }
   ],
   "source": [
    "v37 = train['V37'].values\n",
    "unique_values, counts = np.unique(v37, return_counts=True)\n",
    "for value, count in zip(unique_values[:5], counts[:5]):\n",
    "    print(f\"{value}: {count}\")"
   ]
  },
  {
   "attachments": {},
   "cell_type": "markdown",
   "metadata": {},
   "source": [
    "Similarly to columns \"V22\" and \"V27\", this column is represented by many unique real values, therefore the mean values seems the most suitable again."
   ]
  },
  {
   "cell_type": "code",
   "execution_count": 1517,
   "metadata": {},
   "outputs": [],
   "source": [
    "mean_value_test = test['V37'].mean()\n",
    "mean_value_train = train['V37'].mean()\n",
    "\n",
    "\n",
    "test['V37'] = test['V37'].fillna(mean_value_test)\n",
    "train['V37'] = train['V37'].fillna(mean_value_train)"
   ]
  },
  {
   "attachments": {},
   "cell_type": "markdown",
   "metadata": {},
   "source": [
    "#### Visualization"
   ]
  },
  {
   "attachments": {},
   "cell_type": "markdown",
   "metadata": {},
   "source": [
    "Visualization of importance that each feature provides"
   ]
  },
  {
   "cell_type": "code",
   "execution_count": 1518,
   "metadata": {},
   "outputs": [
    {
     "data": {
      "image/png": "[encoded data removed]",
      "text/plain": [
       "<Figure size 640x480 with 1 Axes>"
      ]
     },
     "metadata": {},
     "output_type": "display_data"
    }
   ],
   "source": [
    "from sklearn.ensemble import RandomForestClassifier\n",
    "# Select the features and target variable\n",
    "X = train.drop('Class', axis=1)\n",
    "y = train['Class']\n",
    "\n",
    "# Train a random forest classifier\n",
    "model = RandomForestClassifier(n_estimators=100)\n",
    "model.fit(X, y)\n",
    "\n",
    "# Get the feature importance scores\n",
    "importances = model.feature_importances_\n",
    "\n",
    "# Sort the feature importance scores in descending order\n",
    "indices = np.argsort(importances)[::-1]\n",
    "\n",
    "# Create a list of the feature names\n",
    "feature_names = list(X.columns[indices])\n",
    "\n",
    "# Create a bar plot of the feature importance scores\n",
    "plt.bar(range(X.shape[1]), importances[indices])\n",
    "plt.xticks(range(X.shape[1]), feature_names, rotation=90)\n",
    "plt.ylabel('Importance')\n",
    "plt.xlabel('Feature')\n",
    "plt.show()"
   ]
  },
  {
   "attachments": {},
   "cell_type": "markdown",
   "metadata": {},
   "source": [
    "Visualziation of correlation between pairs of attributes using heatmap"
   ]
  },
  {
   "cell_type": "code",
   "execution_count": 1519,
   "metadata": {},
   "outputs": [
    {
     "name": "stdout",
     "output_type": "stream",
     "text": [
      "V15  V27    0.919547\n",
      "V27  V15    0.919547\n",
      "V1   V27    0.916709\n",
      "V27  V1     0.916709\n",
      "V36  V39    0.916597\n",
      "dtype: float64\n",
      "V18  V22   -0.794449\n",
      "V22  V18   -0.794449\n",
      "V8   V18   -0.700296\n",
      "V18  V8    -0.700296\n",
      "V10  V12   -0.517011\n",
      "dtype: float64\n"
     ]
    },
    {
     "data": {
      "image/png": "[encoded data removed]",
      "text/plain": [
       "<Figure size 640x480 with 2 Axes>"
      ]
     },
     "metadata": {},
     "output_type": "display_data"
    }
   ],
   "source": [
    "import seaborn as sns\n",
    "\n",
    "X = train.drop(\"Class\",axis=1)\n",
    "corr = X.corr()\n",
    "\n",
    "corr1 = corr.where(corr != 1)\n",
    "top5 = corr1.stack().nlargest(5)\n",
    "print(top5)\n",
    "\n",
    "bott5 = corr1.stack().nsmallest(5)\n",
    "print(bott5)\n",
    "\n",
    "sns.heatmap(corr)\n",
    "plt.show()"
   ]
  },
  {
   "attachments": {},
   "cell_type": "markdown",
   "metadata": {},
   "source": [
    "Visualization of correlation between each feature(or number of combined features) and target variable"
   ]
  },
  {
   "cell_type": "code",
   "execution_count": 1520,
   "metadata": {},
   "outputs": [
    {
     "name": "stdout",
     "output_type": "stream",
     "text": [
      "0.2797771287165461 ('V14', 'V15')\n",
      "-0.3904146777174203 ('V1', 'V2')\n"
     ]
    },
    {
     "data": {
      "image/png": "[encoded data removed]",
      "text/plain": [
       "<Figure size 640x480 with 1 Axes>"
      ]
     },
     "metadata": {},
     "output_type": "display_data"
    }
   ],
   "source": [
    "import itertools\n",
    "\n",
    "number_of_combined_features = 2\n",
    "\n",
    "\n",
    "X = train.drop('Class', axis=1)\n",
    "y = train['Class']\n",
    "\n",
    "\n",
    "combinations = list(itertools.combinations(X.columns, number_of_combined_features))\n",
    "\n",
    "\n",
    "for c in combinations:\n",
    "    corr = X[list(c)].corrwith(y, method='pearson')\n",
    "\n",
    "\n",
    "correlations = []\n",
    "\n",
    "\n",
    "maxc = -np.inf\n",
    "minc = np.inf\n",
    "for c in combinations:\n",
    "    corr = X[list(c)].corrwith(y, method='pearson')\n",
    "    correlations.append(corr[0])\n",
    "    if maxc < corr[0]:\n",
    "        maxc = corr[0]\n",
    "        maxval = c\n",
    "\n",
    "    if minc > corr[0]:\n",
    "        minc = corr[0]\n",
    "        minval = c\n",
    "\n",
    "print(maxc,maxval)\n",
    "print(minc,minval)\n",
    "\n",
    "\n",
    "plt.bar(range(len(combinations)), correlations)\n",
    "\n",
    "plt.xlabel('Feature combination')\n",
    "plt.ylabel('Correlation')\n",
    "plt.show()\n",
    "\n"
   ]
  },
  {
   "attachments": {},
   "cell_type": "markdown",
   "metadata": {},
   "source": [
    "## Modeling"
   ]
  },
  {
   "cell_type": "code",
   "execution_count": 1521,
   "metadata": {},
   "outputs": [],
   "source": [
    "from sklearn.metrics import f1_score, roc_auc_score, recall_score, precision_score, accuracy_score\n",
    "\n",
    "X_train = train.iloc[:,:-1].values\n",
    "y_train = train['Class']\n",
    "\n",
    "X_test = test.iloc[:,:-1].values\n",
    "y_test = test['Class']\n",
    "\n",
    "\n",
    "\n",
    "def display_scores(y_pred, y_true):\n",
    "    f1 = f1_score(y_true,y_pred)\n",
    "    precision = precision_score(y_true,y_pred)\n",
    "    recall = recall_score(y_true,y_pred)\n",
    "    AUC = roc_auc_score(y_true,y_pred)\n",
    "\n",
    "    data = np.array([[f1,precision,recall,AUC]])\n",
    "    scores = pd.DataFrame(data, columns=['F1','precision','recall','AUC'])\n",
    "\n",
    "    display(scores)\n",
    "    \n",
    "    return data"
   ]
  },
  {
   "attachments": {},
   "cell_type": "markdown",
   "metadata": {},
   "source": [
    "#### Majority classifier and random classifier"
   ]
  },
  {
   "cell_type": "code",
   "execution_count": 1522,
   "metadata": {},
   "outputs": [
    {
     "data": {
      "text/html": [
       "<div>\n",
       "<style scoped>\n",
       "    .dataframe tbody tr th:only-of-type {\n",
       "        vertical-align: middle;\n",
       "    }\n",
       "\n",
       "    .dataframe tbody tr th {\n",
       "        vertical-align: top;\n",
       "    }\n",
       "\n",
       "    .dataframe thead th {\n",
       "        text-align: right;\n",
       "    }\n",
       "</style>\n",
       "<table border=\"1\" class=\"dataframe\">\n",
       "  <thead>\n",
       "    <tr style=\"text-align: right;\">\n",
       "      <th></th>\n",
       "      <th>F1</th>\n",
       "      <th>precision</th>\n",
       "      <th>recall</th>\n",
       "      <th>AUC</th>\n",
       "    </tr>\n",
       "  </thead>\n",
       "  <tbody>\n",
       "    <tr>\n",
       "      <th>0</th>\n",
       "      <td>0.784884</td>\n",
       "      <td>0.645933</td>\n",
       "      <td>1.0</td>\n",
       "      <td>0.5</td>\n",
       "    </tr>\n",
       "  </tbody>\n",
       "</table>\n",
       "</div>"
      ],
      "text/plain": [
       "         F1  precision  recall  AUC\n",
       "0  0.784884   0.645933     1.0  0.5"
      ]
     },
     "metadata": {},
     "output_type": "display_data"
    }
   ],
   "source": [
    "predictionsMC = np.full(209, 1)\n",
    "data_MC = display_scores(predictionsMC, y_test)\n"
   ]
  },
  {
   "cell_type": "code",
   "execution_count": 1523,
   "metadata": {},
   "outputs": [
    {
     "data": {
      "text/html": [
       "<div>\n",
       "<style scoped>\n",
       "    .dataframe tbody tr th:only-of-type {\n",
       "        vertical-align: middle;\n",
       "    }\n",
       "\n",
       "    .dataframe tbody tr th {\n",
       "        vertical-align: top;\n",
       "    }\n",
       "\n",
       "    .dataframe thead th {\n",
       "        text-align: right;\n",
       "    }\n",
       "</style>\n",
       "<table border=\"1\" class=\"dataframe\">\n",
       "  <thead>\n",
       "    <tr style=\"text-align: right;\">\n",
       "      <th></th>\n",
       "      <th>F1</th>\n",
       "      <th>precision</th>\n",
       "      <th>recall</th>\n",
       "      <th>AUC</th>\n",
       "    </tr>\n",
       "  </thead>\n",
       "  <tbody>\n",
       "    <tr>\n",
       "      <th>0</th>\n",
       "      <td>0.526316</td>\n",
       "      <td>0.580357</td>\n",
       "      <td>0.481481</td>\n",
       "      <td>0.423173</td>\n",
       "    </tr>\n",
       "  </tbody>\n",
       "</table>\n",
       "</div>"
      ],
      "text/plain": [
       "         F1  precision    recall       AUC\n",
       "0  0.526316   0.580357  0.481481  0.423173"
      ]
     },
     "metadata": {},
     "output_type": "display_data"
    }
   ],
   "source": [
    "import random\n",
    "predictionsRan = [random.choice([1, 2]) for _ in range(len(y_test))]\n",
    "data_Ran = display_scores(predictionsRan, y_test)"
   ]
  },
  {
   "attachments": {},
   "cell_type": "markdown",
   "metadata": {},
   "source": [
    "#### Logistic regression"
   ]
  },
  {
   "cell_type": "code",
   "execution_count": 1524,
   "metadata": {},
   "outputs": [
    {
     "data": {
      "text/html": [
       "<div>\n",
       "<style scoped>\n",
       "    .dataframe tbody tr th:only-of-type {\n",
       "        vertical-align: middle;\n",
       "    }\n",
       "\n",
       "    .dataframe tbody tr th {\n",
       "        vertical-align: top;\n",
       "    }\n",
       "\n",
       "    .dataframe thead th {\n",
       "        text-align: right;\n",
       "    }\n",
       "</style>\n",
       "<table border=\"1\" class=\"dataframe\">\n",
       "  <thead>\n",
       "    <tr style=\"text-align: right;\">\n",
       "      <th></th>\n",
       "      <th>F1</th>\n",
       "      <th>precision</th>\n",
       "      <th>recall</th>\n",
       "      <th>AUC</th>\n",
       "    </tr>\n",
       "  </thead>\n",
       "  <tbody>\n",
       "    <tr>\n",
       "      <th>0</th>\n",
       "      <td>0.875</td>\n",
       "      <td>0.868613</td>\n",
       "      <td>0.881481</td>\n",
       "      <td>0.819119</td>\n",
       "    </tr>\n",
       "  </tbody>\n",
       "</table>\n",
       "</div>"
      ],
      "text/plain": [
       "      F1  precision    recall       AUC\n",
       "0  0.875   0.868613  0.881481  0.819119"
      ]
     },
     "metadata": {},
     "output_type": "display_data"
    }
   ],
   "source": [
    "from sklearn.linear_model import LogisticRegression\n",
    "\n",
    "model = LogisticRegression(solver='lbfgs',max_iter=10000)\n",
    "\n",
    "model.fit(X_train, y_train)\n",
    "\n",
    "LR_prediction = model.predict(X_test)\n",
    "\n",
    "data_LR = display_scores(LR_prediction, y_test)\n"
   ]
  },
  {
   "attachments": {},
   "cell_type": "markdown",
   "metadata": {},
   "source": [
    "#### SVM"
   ]
  },
  {
   "cell_type": "code",
   "execution_count": 1525,
   "metadata": {},
   "outputs": [
    {
     "data": {
      "text/html": [
       "<div>\n",
       "<style scoped>\n",
       "    .dataframe tbody tr th:only-of-type {\n",
       "        vertical-align: middle;\n",
       "    }\n",
       "\n",
       "    .dataframe tbody tr th {\n",
       "        vertical-align: top;\n",
       "    }\n",
       "\n",
       "    .dataframe thead th {\n",
       "        text-align: right;\n",
       "    }\n",
       "</style>\n",
       "<table border=\"1\" class=\"dataframe\">\n",
       "  <thead>\n",
       "    <tr style=\"text-align: right;\">\n",
       "      <th></th>\n",
       "      <th>F1</th>\n",
       "      <th>precision</th>\n",
       "      <th>recall</th>\n",
       "      <th>AUC</th>\n",
       "    </tr>\n",
       "  </thead>\n",
       "  <tbody>\n",
       "    <tr>\n",
       "      <th>0</th>\n",
       "      <td>0.855124</td>\n",
       "      <td>0.817568</td>\n",
       "      <td>0.896296</td>\n",
       "      <td>0.765716</td>\n",
       "    </tr>\n",
       "  </tbody>\n",
       "</table>\n",
       "</div>"
      ],
      "text/plain": [
       "         F1  precision    recall       AUC\n",
       "0  0.855124   0.817568  0.896296  0.765716"
      ]
     },
     "metadata": {},
     "output_type": "display_data"
    }
   ],
   "source": [
    "from sklearn.svm import SVC\n",
    "\n",
    "SVC_model = SVC()\n",
    "\n",
    "SVC_model.fit(X_train, y_train)\n",
    "\n",
    "SVC_prediction = SVC_model.predict(X_test)\n",
    "\n",
    "data_SVM = display_scores(SVC_prediction, y_test)\n"
   ]
  },
  {
   "attachments": {},
   "cell_type": "markdown",
   "metadata": {},
   "source": [
    "#### KNN"
   ]
  },
  {
   "cell_type": "code",
   "execution_count": 1526,
   "metadata": {},
   "outputs": [
    {
     "name": "stdout",
     "output_type": "stream",
     "text": [
      "Maximum F1:  0.784688995215311 at K = 2\n"
     ]
    },
    {
     "data": {
      "text/html": [
       "<div>\n",
       "<style scoped>\n",
       "    .dataframe tbody tr th:only-of-type {\n",
       "        vertical-align: middle;\n",
       "    }\n",
       "\n",
       "    .dataframe tbody tr th {\n",
       "        vertical-align: top;\n",
       "    }\n",
       "\n",
       "    .dataframe thead th {\n",
       "        text-align: right;\n",
       "    }\n",
       "</style>\n",
       "<table border=\"1\" class=\"dataframe\">\n",
       "  <thead>\n",
       "    <tr style=\"text-align: right;\">\n",
       "      <th></th>\n",
       "      <th>F1</th>\n",
       "      <th>precision</th>\n",
       "      <th>recall</th>\n",
       "      <th>AUC</th>\n",
       "    </tr>\n",
       "  </thead>\n",
       "  <tbody>\n",
       "    <tr>\n",
       "      <th>0</th>\n",
       "      <td>0.840989</td>\n",
       "      <td>0.804054</td>\n",
       "      <td>0.881481</td>\n",
       "      <td>0.744795</td>\n",
       "    </tr>\n",
       "  </tbody>\n",
       "</table>\n",
       "</div>"
      ],
      "text/plain": [
       "         F1  precision    recall       AUC\n",
       "0  0.840989   0.804054  0.881481  0.744795"
      ]
     },
     "metadata": {},
     "output_type": "display_data"
    },
    {
     "data": {
      "image/png": "[encoded data removed]",
      "text/plain": [
       "<Figure size 1000x600 with 1 Axes>"
      ]
     },
     "metadata": {},
     "output_type": "display_data"
    }
   ],
   "source": [
    "from sklearn.neighbors import KNeighborsClassifier\n",
    "\n",
    "\n",
    "knn_f1_scores = []\n",
    "# Will take some time\n",
    "from sklearn import metrics\n",
    "for i in range(1,40):\n",
    "    neigh = KNeighborsClassifier(n_neighbors = i).fit(X_train,y_train)\n",
    "    yhat = neigh.predict(X_test)\n",
    "    knn_f1_scores.append(metrics.accuracy_score(y_test, yhat))\n",
    "\n",
    "knn_best_K = knn_f1_scores.index(max(knn_f1_scores)) + 1\n",
    "\n",
    "plt.figure(figsize=(10,6))\n",
    "plt.plot(range(1,40),knn_f1_scores,color = 'blue',linestyle='dashed', \n",
    "         marker='o',markerfacecolor='red', markersize=10)\n",
    "plt.title('F1 vs. K Value')\n",
    "plt.xlabel('K')\n",
    "plt.ylabel('F1')\n",
    "print(\"Maximum F1: \",max(knn_f1_scores),\"at K =\",knn_best_K)\n",
    "\n",
    "KNN_model = KNeighborsClassifier(n_neighbors=knn_best_K)\n",
    "\n",
    "KNN_model.fit(X_train, y_train)\n",
    "\n",
    "KNN_prediction = KNN_model.predict(X_test)\n",
    "\n",
    "data_KNN = display_scores(KNN_prediction, y_test)"
   ]
  },
  {
   "attachments": {},
   "cell_type": "markdown",
   "metadata": {},
   "source": [
    "### Feature selection"
   ]
  },
  {
   "attachments": {},
   "cell_type": "markdown",
   "metadata": {},
   "source": [
    "#### Correlation based feature selection"
   ]
  },
  {
   "cell_type": "code",
   "execution_count": 1527,
   "metadata": {},
   "outputs": [],
   "source": [
    "from sklearn.feature_selection import SelectKBest\n",
    "from sklearn.feature_selection import f_classif\n",
    "\n",
    "# Create a SelectKBest object\n",
    "selector = SelectKBest(score_func=f_classif, k=10)\n",
    "\n",
    "# Fit the selector to the data and get the selected features\n",
    "X_corr_train = selector.fit_transform(X_train, y_train)\n",
    "X_corr_test = selector.transform(X_test)"
   ]
  },
  {
   "attachments": {},
   "cell_type": "markdown",
   "metadata": {},
   "source": [
    "Logistic regression"
   ]
  },
  {
   "cell_type": "code",
   "execution_count": 1528,
   "metadata": {},
   "outputs": [
    {
     "data": {
      "text/html": [
       "<div>\n",
       "<style scoped>\n",
       "    .dataframe tbody tr th:only-of-type {\n",
       "        vertical-align: middle;\n",
       "    }\n",
       "\n",
       "    .dataframe tbody tr th {\n",
       "        vertical-align: top;\n",
       "    }\n",
       "\n",
       "    .dataframe thead th {\n",
       "        text-align: right;\n",
       "    }\n",
       "</style>\n",
       "<table border=\"1\" class=\"dataframe\">\n",
       "  <thead>\n",
       "    <tr style=\"text-align: right;\">\n",
       "      <th></th>\n",
       "      <th>F1</th>\n",
       "      <th>precision</th>\n",
       "      <th>recall</th>\n",
       "      <th>AUC</th>\n",
       "    </tr>\n",
       "  </thead>\n",
       "  <tbody>\n",
       "    <tr>\n",
       "      <th>0</th>\n",
       "      <td>0.843284</td>\n",
       "      <td>0.849624</td>\n",
       "      <td>0.837037</td>\n",
       "      <td>0.783383</td>\n",
       "    </tr>\n",
       "  </tbody>\n",
       "</table>\n",
       "</div>"
      ],
      "text/plain": [
       "         F1  precision    recall       AUC\n",
       "0  0.843284   0.849624  0.837037  0.783383"
      ]
     },
     "metadata": {},
     "output_type": "display_data"
    }
   ],
   "source": [
    "model = LogisticRegression(solver='lbfgs',max_iter=10000)\n",
    "\n",
    "model.fit(X_corr_train, y_train)\n",
    "\n",
    "LR_prediction = model.predict(X_corr_test)\n",
    "\n",
    "data_LR_correlation = display_scores(LR_prediction, y_test)\n"
   ]
  },
  {
   "attachments": {},
   "cell_type": "markdown",
   "metadata": {},
   "source": [
    "SVM"
   ]
  },
  {
   "cell_type": "code",
   "execution_count": 1529,
   "metadata": {},
   "outputs": [
    {
     "data": {
      "text/html": [
       "<div>\n",
       "<style scoped>\n",
       "    .dataframe tbody tr th:only-of-type {\n",
       "        vertical-align: middle;\n",
       "    }\n",
       "\n",
       "    .dataframe tbody tr th {\n",
       "        vertical-align: top;\n",
       "    }\n",
       "\n",
       "    .dataframe thead th {\n",
       "        text-align: right;\n",
       "    }\n",
       "</style>\n",
       "<table border=\"1\" class=\"dataframe\">\n",
       "  <thead>\n",
       "    <tr style=\"text-align: right;\">\n",
       "      <th></th>\n",
       "      <th>F1</th>\n",
       "      <th>precision</th>\n",
       "      <th>recall</th>\n",
       "      <th>AUC</th>\n",
       "    </tr>\n",
       "  </thead>\n",
       "  <tbody>\n",
       "    <tr>\n",
       "      <th>0</th>\n",
       "      <td>0.827068</td>\n",
       "      <td>0.839695</td>\n",
       "      <td>0.814815</td>\n",
       "      <td>0.765516</td>\n",
       "    </tr>\n",
       "  </tbody>\n",
       "</table>\n",
       "</div>"
      ],
      "text/plain": [
       "         F1  precision    recall       AUC\n",
       "0  0.827068   0.839695  0.814815  0.765516"
      ]
     },
     "metadata": {},
     "output_type": "display_data"
    }
   ],
   "source": [
    "SVC_model = SVC()\n",
    "\n",
    "SVC_model.fit(X_corr_train, y_train)\n",
    "\n",
    "SVC_prediction = SVC_model.predict(X_corr_test)\n",
    "\n",
    "data_SVM_correlation = display_scores(SVC_prediction, y_test)\n"
   ]
  },
  {
   "attachments": {},
   "cell_type": "markdown",
   "metadata": {},
   "source": [
    "KNN"
   ]
  },
  {
   "cell_type": "code",
   "execution_count": 1530,
   "metadata": {},
   "outputs": [
    {
     "data": {
      "text/html": [
       "<div>\n",
       "<style scoped>\n",
       "    .dataframe tbody tr th:only-of-type {\n",
       "        vertical-align: middle;\n",
       "    }\n",
       "\n",
       "    .dataframe tbody tr th {\n",
       "        vertical-align: top;\n",
       "    }\n",
       "\n",
       "    .dataframe thead th {\n",
       "        text-align: right;\n",
       "    }\n",
       "</style>\n",
       "<table border=\"1\" class=\"dataframe\">\n",
       "  <thead>\n",
       "    <tr style=\"text-align: right;\">\n",
       "      <th></th>\n",
       "      <th>F1</th>\n",
       "      <th>precision</th>\n",
       "      <th>recall</th>\n",
       "      <th>AUC</th>\n",
       "    </tr>\n",
       "  </thead>\n",
       "  <tbody>\n",
       "    <tr>\n",
       "      <th>0</th>\n",
       "      <td>0.843972</td>\n",
       "      <td>0.809524</td>\n",
       "      <td>0.881481</td>\n",
       "      <td>0.751552</td>\n",
       "    </tr>\n",
       "  </tbody>\n",
       "</table>\n",
       "</div>"
      ],
      "text/plain": [
       "         F1  precision    recall       AUC\n",
       "0  0.843972   0.809524  0.881481  0.751552"
      ]
     },
     "metadata": {},
     "output_type": "display_data"
    }
   ],
   "source": [
    "KNN_model = KNeighborsClassifier(n_neighbors=2)\n",
    "\n",
    "KNN_model.fit(X_corr_train, y_train)\n",
    "\n",
    "KNN_prediction = KNN_model.predict(X_corr_test)\n",
    "\n",
    "data_KNN_correlation = display_scores(KNN_prediction, y_test)\n"
   ]
  },
  {
   "attachments": {},
   "cell_type": "markdown",
   "metadata": {},
   "source": [
    "#### Information gain feature selection"
   ]
  },
  {
   "cell_type": "code",
   "execution_count": 1531,
   "metadata": {},
   "outputs": [],
   "source": [
    "from sklearn.feature_selection import mutual_info_classif\n",
    "\n",
    "# Calculate the information gain of each feature\n",
    "X_train = np.array(X_train)\n",
    "X_test = np.array(X_test)\n",
    "scores = mutual_info_classif(X_train, y)\n",
    "\n",
    "# Sort the features by their information gain and select the top 10\n",
    "sorted_indexes = np.argsort(scores)[::-1][:10]\n",
    "X_gain_train = X_train[:, sorted_indexes]\n",
    "X_gain_test = X_test[:, sorted_indexes]\n"
   ]
  },
  {
   "attachments": {},
   "cell_type": "markdown",
   "metadata": {},
   "source": [
    "Logistic regression"
   ]
  },
  {
   "cell_type": "code",
   "execution_count": 1532,
   "metadata": {},
   "outputs": [
    {
     "data": {
      "text/html": [
       "<div>\n",
       "<style scoped>\n",
       "    .dataframe tbody tr th:only-of-type {\n",
       "        vertical-align: middle;\n",
       "    }\n",
       "\n",
       "    .dataframe tbody tr th {\n",
       "        vertical-align: top;\n",
       "    }\n",
       "\n",
       "    .dataframe thead th {\n",
       "        text-align: right;\n",
       "    }\n",
       "</style>\n",
       "<table border=\"1\" class=\"dataframe\">\n",
       "  <thead>\n",
       "    <tr style=\"text-align: right;\">\n",
       "      <th></th>\n",
       "      <th>F1</th>\n",
       "      <th>precision</th>\n",
       "      <th>recall</th>\n",
       "      <th>AUC</th>\n",
       "    </tr>\n",
       "  </thead>\n",
       "  <tbody>\n",
       "    <tr>\n",
       "      <th>0</th>\n",
       "      <td>0.823529</td>\n",
       "      <td>0.817518</td>\n",
       "      <td>0.82963</td>\n",
       "      <td>0.745896</td>\n",
       "    </tr>\n",
       "  </tbody>\n",
       "</table>\n",
       "</div>"
      ],
      "text/plain": [
       "         F1  precision   recall       AUC\n",
       "0  0.823529   0.817518  0.82963  0.745896"
      ]
     },
     "metadata": {},
     "output_type": "display_data"
    }
   ],
   "source": [
    "model = LogisticRegression(solver='lbfgs',max_iter=10000)\n",
    "\n",
    "model.fit(X_gain_train, y_train)\n",
    "\n",
    "LR_prediction = model.predict(X_gain_test)\n",
    "\n",
    "data_LR_information = display_scores(LR_prediction, y_test)\n"
   ]
  },
  {
   "attachments": {},
   "cell_type": "markdown",
   "metadata": {},
   "source": [
    "SVM"
   ]
  },
  {
   "cell_type": "code",
   "execution_count": 1533,
   "metadata": {},
   "outputs": [
    {
     "data": {
      "text/html": [
       "<div>\n",
       "<style scoped>\n",
       "    .dataframe tbody tr th:only-of-type {\n",
       "        vertical-align: middle;\n",
       "    }\n",
       "\n",
       "    .dataframe tbody tr th {\n",
       "        vertical-align: top;\n",
       "    }\n",
       "\n",
       "    .dataframe thead th {\n",
       "        text-align: right;\n",
       "    }\n",
       "</style>\n",
       "<table border=\"1\" class=\"dataframe\">\n",
       "  <thead>\n",
       "    <tr style=\"text-align: right;\">\n",
       "      <th></th>\n",
       "      <th>F1</th>\n",
       "      <th>precision</th>\n",
       "      <th>recall</th>\n",
       "      <th>AUC</th>\n",
       "    </tr>\n",
       "  </thead>\n",
       "  <tbody>\n",
       "    <tr>\n",
       "      <th>0</th>\n",
       "      <td>0.810036</td>\n",
       "      <td>0.784722</td>\n",
       "      <td>0.837037</td>\n",
       "      <td>0.709059</td>\n",
       "    </tr>\n",
       "  </tbody>\n",
       "</table>\n",
       "</div>"
      ],
      "text/plain": [
       "         F1  precision    recall       AUC\n",
       "0  0.810036   0.784722  0.837037  0.709059"
      ]
     },
     "metadata": {},
     "output_type": "display_data"
    }
   ],
   "source": [
    "SVC_model = SVC()\n",
    "\n",
    "SVC_model.fit(X_gain_train, y_train)\n",
    "\n",
    "SVC_prediction = SVC_model.predict(X_gain_test)\n",
    "\n",
    "data_SVM_information = display_scores(SVC_prediction, y_test)\n"
   ]
  },
  {
   "attachments": {},
   "cell_type": "markdown",
   "metadata": {},
   "source": [
    "KNN"
   ]
  },
  {
   "cell_type": "code",
   "execution_count": 1534,
   "metadata": {},
   "outputs": [
    {
     "data": {
      "text/html": [
       "<div>\n",
       "<style scoped>\n",
       "    .dataframe tbody tr th:only-of-type {\n",
       "        vertical-align: middle;\n",
       "    }\n",
       "\n",
       "    .dataframe tbody tr th {\n",
       "        vertical-align: top;\n",
       "    }\n",
       "\n",
       "    .dataframe thead th {\n",
       "        text-align: right;\n",
       "    }\n",
       "</style>\n",
       "<table border=\"1\" class=\"dataframe\">\n",
       "  <thead>\n",
       "    <tr style=\"text-align: right;\">\n",
       "      <th></th>\n",
       "      <th>F1</th>\n",
       "      <th>precision</th>\n",
       "      <th>recall</th>\n",
       "      <th>AUC</th>\n",
       "    </tr>\n",
       "  </thead>\n",
       "  <tbody>\n",
       "    <tr>\n",
       "      <th>0</th>\n",
       "      <td>0.826255</td>\n",
       "      <td>0.862903</td>\n",
       "      <td>0.792593</td>\n",
       "      <td>0.781431</td>\n",
       "    </tr>\n",
       "  </tbody>\n",
       "</table>\n",
       "</div>"
      ],
      "text/plain": [
       "         F1  precision    recall       AUC\n",
       "0  0.826255   0.862903  0.792593  0.781431"
      ]
     },
     "metadata": {},
     "output_type": "display_data"
    }
   ],
   "source": [
    "KNN_model = KNeighborsClassifier(5)\n",
    "\n",
    "KNN_model.fit(X_gain_train, y_train)\n",
    "\n",
    "KNN_prediction = KNN_model.predict(X_gain_test)\n",
    "\n",
    "data_KNN_information = display_scores(KNN_prediction, y_test)\n"
   ]
  },
  {
   "attachments": {},
   "cell_type": "markdown",
   "metadata": {},
   "source": [
    "#### Lasso feature selection"
   ]
  },
  {
   "cell_type": "code",
   "execution_count": 1535,
   "metadata": {},
   "outputs": [],
   "source": [
    "from sklearn.linear_model import LassoCV\n",
    "\n",
    "# Fit the model to the data\n",
    "selector = LassoCV()\n",
    "selector.fit(X, y)\n",
    "\n",
    "# Get the indices of the most important features\n",
    "important_feature_indices = selector.coef_ != 0\n",
    "\n",
    "# Select the most important features\n",
    "X_lasso_train = X_train[:, important_feature_indices]\n",
    "X_lasso_test = X_test[:, important_feature_indices]\n",
    "\n",
    "\n",
    "\n"
   ]
  },
  {
   "attachments": {},
   "cell_type": "markdown",
   "metadata": {},
   "source": [
    "Logistic regression"
   ]
  },
  {
   "cell_type": "code",
   "execution_count": 1536,
   "metadata": {},
   "outputs": [
    {
     "data": {
      "text/html": [
       "<div>\n",
       "<style scoped>\n",
       "    .dataframe tbody tr th:only-of-type {\n",
       "        vertical-align: middle;\n",
       "    }\n",
       "\n",
       "    .dataframe tbody tr th {\n",
       "        vertical-align: top;\n",
       "    }\n",
       "\n",
       "    .dataframe thead th {\n",
       "        text-align: right;\n",
       "    }\n",
       "</style>\n",
       "<table border=\"1\" class=\"dataframe\">\n",
       "  <thead>\n",
       "    <tr style=\"text-align: right;\">\n",
       "      <th></th>\n",
       "      <th>F1</th>\n",
       "      <th>precision</th>\n",
       "      <th>recall</th>\n",
       "      <th>AUC</th>\n",
       "    </tr>\n",
       "  </thead>\n",
       "  <tbody>\n",
       "    <tr>\n",
       "      <th>0</th>\n",
       "      <td>0.870849</td>\n",
       "      <td>0.867647</td>\n",
       "      <td>0.874074</td>\n",
       "      <td>0.815415</td>\n",
       "    </tr>\n",
       "  </tbody>\n",
       "</table>\n",
       "</div>"
      ],
      "text/plain": [
       "         F1  precision    recall       AUC\n",
       "0  0.870849   0.867647  0.874074  0.815415"
      ]
     },
     "metadata": {},
     "output_type": "display_data"
    }
   ],
   "source": [
    "model = LogisticRegression(solver='lbfgs',max_iter=10000)\n",
    "\n",
    "model.fit(X_lasso_train, y_train)\n",
    "\n",
    "LR_prediction = model.predict(X_lasso_test)\n",
    "\n",
    "data_LR_lasso = display_scores(LR_prediction, y_test)\n"
   ]
  },
  {
   "attachments": {},
   "cell_type": "markdown",
   "metadata": {},
   "source": [
    "SVM"
   ]
  },
  {
   "cell_type": "code",
   "execution_count": 1537,
   "metadata": {},
   "outputs": [
    {
     "data": {
      "text/html": [
       "<div>\n",
       "<style scoped>\n",
       "    .dataframe tbody tr th:only-of-type {\n",
       "        vertical-align: middle;\n",
       "    }\n",
       "\n",
       "    .dataframe tbody tr th {\n",
       "        vertical-align: top;\n",
       "    }\n",
       "\n",
       "    .dataframe thead th {\n",
       "        text-align: right;\n",
       "    }\n",
       "</style>\n",
       "<table border=\"1\" class=\"dataframe\">\n",
       "  <thead>\n",
       "    <tr style=\"text-align: right;\">\n",
       "      <th></th>\n",
       "      <th>F1</th>\n",
       "      <th>precision</th>\n",
       "      <th>recall</th>\n",
       "      <th>AUC</th>\n",
       "    </tr>\n",
       "  </thead>\n",
       "  <tbody>\n",
       "    <tr>\n",
       "      <th>0</th>\n",
       "      <td>0.851064</td>\n",
       "      <td>0.816327</td>\n",
       "      <td>0.888889</td>\n",
       "      <td>0.762012</td>\n",
       "    </tr>\n",
       "  </tbody>\n",
       "</table>\n",
       "</div>"
      ],
      "text/plain": [
       "         F1  precision    recall       AUC\n",
       "0  0.851064   0.816327  0.888889  0.762012"
      ]
     },
     "metadata": {},
     "output_type": "display_data"
    }
   ],
   "source": [
    "SVC_model = SVC()\n",
    "\n",
    "SVC_model.fit(X_lasso_train, y_train)\n",
    "\n",
    "SVC_prediction = SVC_model.predict(X_lasso_test)\n",
    "\n",
    "data_SVM_lasso = display_scores(SVC_prediction, y_test)\n",
    "\n",
    "\n"
   ]
  },
  {
   "attachments": {},
   "cell_type": "markdown",
   "metadata": {},
   "source": [
    "KNN"
   ]
  },
  {
   "cell_type": "code",
   "execution_count": 1538,
   "metadata": {},
   "outputs": [
    {
     "data": {
      "text/html": [
       "<div>\n",
       "<style scoped>\n",
       "    .dataframe tbody tr th:only-of-type {\n",
       "        vertical-align: middle;\n",
       "    }\n",
       "\n",
       "    .dataframe tbody tr th {\n",
       "        vertical-align: top;\n",
       "    }\n",
       "\n",
       "    .dataframe thead th {\n",
       "        text-align: right;\n",
       "    }\n",
       "</style>\n",
       "<table border=\"1\" class=\"dataframe\">\n",
       "  <thead>\n",
       "    <tr style=\"text-align: right;\">\n",
       "      <th></th>\n",
       "      <th>F1</th>\n",
       "      <th>precision</th>\n",
       "      <th>recall</th>\n",
       "      <th>AUC</th>\n",
       "    </tr>\n",
       "  </thead>\n",
       "  <tbody>\n",
       "    <tr>\n",
       "      <th>0</th>\n",
       "      <td>0.840989</td>\n",
       "      <td>0.804054</td>\n",
       "      <td>0.881481</td>\n",
       "      <td>0.744795</td>\n",
       "    </tr>\n",
       "  </tbody>\n",
       "</table>\n",
       "</div>"
      ],
      "text/plain": [
       "         F1  precision    recall       AUC\n",
       "0  0.840989   0.804054  0.881481  0.744795"
      ]
     },
     "metadata": {},
     "output_type": "display_data"
    }
   ],
   "source": [
    "KNN_model = KNeighborsClassifier(n_neighbors=2)\n",
    "\n",
    "KNN_model.fit(X_lasso_train, y_train)\n",
    "\n",
    "KNN_prediction = KNN_model.predict(X_lasso_test)\n",
    "\n",
    "data_KNN_lasso = display_scores(KNN_prediction, y_test)\n"
   ]
  },
  {
   "cell_type": "markdown",
   "metadata": {},
   "source": [
    "### Feature transformation"
   ]
  },
  {
   "cell_type": "code",
   "execution_count": 1539,
   "metadata": {},
   "outputs": [
    {
     "data": {
      "text/html": [
       "<div>\n",
       "<style scoped>\n",
       "    .dataframe tbody tr th:only-of-type {\n",
       "        vertical-align: middle;\n",
       "    }\n",
       "\n",
       "    .dataframe tbody tr th {\n",
       "        vertical-align: top;\n",
       "    }\n",
       "\n",
       "    .dataframe thead th {\n",
       "        text-align: right;\n",
       "    }\n",
       "</style>\n",
       "<table border=\"1\" class=\"dataframe\">\n",
       "  <thead>\n",
       "    <tr style=\"text-align: right;\">\n",
       "      <th></th>\n",
       "      <th>0</th>\n",
       "      <th>1</th>\n",
       "      <th>2</th>\n",
       "      <th>3</th>\n",
       "      <th>4</th>\n",
       "      <th>5</th>\n",
       "      <th>6</th>\n",
       "      <th>7</th>\n",
       "      <th>8</th>\n",
       "      <th>9</th>\n",
       "      <th>...</th>\n",
       "      <th>31</th>\n",
       "      <th>32</th>\n",
       "      <th>33</th>\n",
       "      <th>34</th>\n",
       "      <th>35</th>\n",
       "      <th>36</th>\n",
       "      <th>37</th>\n",
       "      <th>38</th>\n",
       "      <th>39</th>\n",
       "      <th>40</th>\n",
       "    </tr>\n",
       "  </thead>\n",
       "  <tbody>\n",
       "    <tr>\n",
       "      <th>0</th>\n",
       "      <td>0</td>\n",
       "      <td>1</td>\n",
       "      <td>0.0</td>\n",
       "      <td>0.0</td>\n",
       "      <td>0.0</td>\n",
       "      <td>0.0</td>\n",
       "      <td>0.0</td>\n",
       "      <td>0</td>\n",
       "      <td>2.0</td>\n",
       "      <td>4.0</td>\n",
       "      <td>...</td>\n",
       "      <td>0.0</td>\n",
       "      <td>0.0</td>\n",
       "      <td>0.0</td>\n",
       "      <td>1.0</td>\n",
       "      <td>0</td>\n",
       "      <td>1</td>\n",
       "      <td>0.0</td>\n",
       "      <td>7.601</td>\n",
       "      <td>0.0</td>\n",
       "      <td>0.0</td>\n",
       "    </tr>\n",
       "    <tr>\n",
       "      <th>1</th>\n",
       "      <td>0</td>\n",
       "      <td>2</td>\n",
       "      <td>0.0</td>\n",
       "      <td>0.0</td>\n",
       "      <td>0.0</td>\n",
       "      <td>0.0</td>\n",
       "      <td>0.0</td>\n",
       "      <td>0</td>\n",
       "      <td>2.0</td>\n",
       "      <td>4.0</td>\n",
       "      <td>...</td>\n",
       "      <td>0.0</td>\n",
       "      <td>0.0</td>\n",
       "      <td>0.0</td>\n",
       "      <td>0.0</td>\n",
       "      <td>0</td>\n",
       "      <td>1</td>\n",
       "      <td>0.0</td>\n",
       "      <td>8.003</td>\n",
       "      <td>0.0</td>\n",
       "      <td>0.0</td>\n",
       "    </tr>\n",
       "    <tr>\n",
       "      <th>2</th>\n",
       "      <td>0</td>\n",
       "      <td>2</td>\n",
       "      <td>0.0</td>\n",
       "      <td>0.0</td>\n",
       "      <td>0.0</td>\n",
       "      <td>0.0</td>\n",
       "      <td>0.0</td>\n",
       "      <td>0</td>\n",
       "      <td>2.0</td>\n",
       "      <td>4.0</td>\n",
       "      <td>...</td>\n",
       "      <td>0.0</td>\n",
       "      <td>0.0</td>\n",
       "      <td>0.0</td>\n",
       "      <td>0.0</td>\n",
       "      <td>0</td>\n",
       "      <td>1</td>\n",
       "      <td>0.0</td>\n",
       "      <td>7.904</td>\n",
       "      <td>0.0</td>\n",
       "      <td>0.0</td>\n",
       "    </tr>\n",
       "    <tr>\n",
       "      <th>3</th>\n",
       "      <td>1</td>\n",
       "      <td>2</td>\n",
       "      <td>1.0</td>\n",
       "      <td>0.0</td>\n",
       "      <td>0.0</td>\n",
       "      <td>0.0</td>\n",
       "      <td>0.0</td>\n",
       "      <td>0</td>\n",
       "      <td>0.0</td>\n",
       "      <td>3.0</td>\n",
       "      <td>...</td>\n",
       "      <td>0.0</td>\n",
       "      <td>0.0</td>\n",
       "      <td>0.0</td>\n",
       "      <td>1.0</td>\n",
       "      <td>2</td>\n",
       "      <td>2</td>\n",
       "      <td>0.0</td>\n",
       "      <td>9.303</td>\n",
       "      <td>0.0</td>\n",
       "      <td>0.0</td>\n",
       "    </tr>\n",
       "    <tr>\n",
       "      <th>4</th>\n",
       "      <td>0</td>\n",
       "      <td>2</td>\n",
       "      <td>0.0</td>\n",
       "      <td>0.0</td>\n",
       "      <td>0.0</td>\n",
       "      <td>0.0</td>\n",
       "      <td>0.0</td>\n",
       "      <td>0</td>\n",
       "      <td>3.0</td>\n",
       "      <td>2.0</td>\n",
       "      <td>...</td>\n",
       "      <td>0.0</td>\n",
       "      <td>0.0</td>\n",
       "      <td>0.0</td>\n",
       "      <td>0.0</td>\n",
       "      <td>0</td>\n",
       "      <td>0</td>\n",
       "      <td>0.0</td>\n",
       "      <td>7.950</td>\n",
       "      <td>0.0</td>\n",
       "      <td>0.0</td>\n",
       "    </tr>\n",
       "  </tbody>\n",
       "</table>\n",
       "<p>5 rows × 41 columns</p>\n",
       "</div>"
      ],
      "text/plain": [
       "  0  1    2    3    4    5    6  7    8    9   ...   31   32   33   34 35  36  \\\n",
       "0  0  1  0.0  0.0  0.0  0.0  0.0  0  2.0  4.0  ...  0.0  0.0  0.0  1.0  0   1   \n",
       "1  0  2  0.0  0.0  0.0  0.0  0.0  0  2.0  4.0  ...  0.0  0.0  0.0  0.0  0   1   \n",
       "2  0  2  0.0  0.0  0.0  0.0  0.0  0  2.0  4.0  ...  0.0  0.0  0.0  0.0  0   1   \n",
       "3  1  2  1.0  0.0  0.0  0.0  0.0  0  0.0  3.0  ...  0.0  0.0  0.0  1.0  2   2   \n",
       "4  0  2  0.0  0.0  0.0  0.0  0.0  0  3.0  2.0  ...  0.0  0.0  0.0  0.0  0   0   \n",
       "\n",
       "    37     38   39   40  \n",
       "0  0.0  7.601  0.0  0.0  \n",
       "1  0.0  8.003  0.0  0.0  \n",
       "2  0.0  7.904  0.0  0.0  \n",
       "3  0.0  9.303  0.0  0.0  \n",
       "4  0.0  7.950  0.0  0.0  \n",
       "\n",
       "[5 rows x 41 columns]"
      ]
     },
     "execution_count": 1539,
     "metadata": {},
     "output_type": "execute_result"
    }
   ],
   "source": [
    "\n",
    "def transform_feature(x_train, x_test, tab, n):\n",
    "    for i in tab:\n",
    "        x_train[i], _ = pd.qcut(x_train[i], q = n, labels = list(map(str,[*range(n)])), retbins = True)\n",
    "        x_test[i], _ = pd.qcut(x_test[i], q = n, labels = list(map(str,[*range(n)])), retbins = True)\n",
    "\n",
    "    return np.array(x_train), np.array(x_test)\n",
    "\n",
    "df_train = pd.DataFrame(X_train)\n",
    "df_train.head()\n",
    "\n",
    "df_test = pd.DataFrame(X_test)\n",
    "\n",
    "#transform columns 0, 12, 28, 31 to 11 bins\n",
    "trainTransformed, testTransformed = transform_feature(df_train, df_test, [0, 1, 7, 12, 13, 14, 16, 17, 21,26,30,35,36], 3)\n",
    "\n",
    "df_train.head()"
   ]
  },
  {
   "cell_type": "markdown",
   "metadata": {},
   "source": [
    "#### Logistic Regression - feature transformation"
   ]
  },
  {
   "cell_type": "code",
   "execution_count": 1540,
   "metadata": {},
   "outputs": [
    {
     "data": {
      "text/html": [
       "<div>\n",
       "<style scoped>\n",
       "    .dataframe tbody tr th:only-of-type {\n",
       "        vertical-align: middle;\n",
       "    }\n",
       "\n",
       "    .dataframe tbody tr th {\n",
       "        vertical-align: top;\n",
       "    }\n",
       "\n",
       "    .dataframe thead th {\n",
       "        text-align: right;\n",
       "    }\n",
       "</style>\n",
       "<table border=\"1\" class=\"dataframe\">\n",
       "  <thead>\n",
       "    <tr style=\"text-align: right;\">\n",
       "      <th></th>\n",
       "      <th>F1</th>\n",
       "      <th>precision</th>\n",
       "      <th>recall</th>\n",
       "      <th>AUC</th>\n",
       "    </tr>\n",
       "  </thead>\n",
       "  <tbody>\n",
       "    <tr>\n",
       "      <th>0</th>\n",
       "      <td>0.870849</td>\n",
       "      <td>0.867647</td>\n",
       "      <td>0.874074</td>\n",
       "      <td>0.815415</td>\n",
       "    </tr>\n",
       "  </tbody>\n",
       "</table>\n",
       "</div>"
      ],
      "text/plain": [
       "         F1  precision    recall       AUC\n",
       "0  0.870849   0.867647  0.874074  0.815415"
      ]
     },
     "metadata": {},
     "output_type": "display_data"
    },
    {
     "data": {
      "text/html": [
       "<div>\n",
       "<style scoped>\n",
       "    .dataframe tbody tr th:only-of-type {\n",
       "        vertical-align: middle;\n",
       "    }\n",
       "\n",
       "    .dataframe tbody tr th {\n",
       "        vertical-align: top;\n",
       "    }\n",
       "\n",
       "    .dataframe thead th {\n",
       "        text-align: right;\n",
       "    }\n",
       "</style>\n",
       "<table border=\"1\" class=\"dataframe\">\n",
       "  <thead>\n",
       "    <tr style=\"text-align: right;\">\n",
       "      <th></th>\n",
       "      <th>F1</th>\n",
       "      <th>precision</th>\n",
       "      <th>recall</th>\n",
       "      <th>AUC</th>\n",
       "    </tr>\n",
       "  </thead>\n",
       "  <tbody>\n",
       "    <tr>\n",
       "      <th>0</th>\n",
       "      <td>0.901099</td>\n",
       "      <td>0.891304</td>\n",
       "      <td>0.911111</td>\n",
       "      <td>0.854204</td>\n",
       "    </tr>\n",
       "  </tbody>\n",
       "</table>\n",
       "</div>"
      ],
      "text/plain": [
       "         F1  precision    recall       AUC\n",
       "0  0.901099   0.891304  0.911111  0.854204"
      ]
     },
     "metadata": {},
     "output_type": "display_data"
    }
   ],
   "source": [
    "model_trans = LogisticRegression(solver='lbfgs',max_iter=10000)\n",
    "\n",
    "model_trans.fit(trainTransformed, y_train)\n",
    "\n",
    "LR_prediction_trans = model_trans.predict(testTransformed)\n",
    "\n",
    "data = display_scores(LR_prediction, y_test)\n",
    "data_LR_transformation = display_scores(LR_prediction_trans, y_test)"
   ]
  },
  {
   "cell_type": "markdown",
   "metadata": {},
   "source": [
    "#### SVM - feature transformation"
   ]
  },
  {
   "cell_type": "code",
   "execution_count": 1541,
   "metadata": {},
   "outputs": [
    {
     "data": {
      "text/html": [
       "<div>\n",
       "<style scoped>\n",
       "    .dataframe tbody tr th:only-of-type {\n",
       "        vertical-align: middle;\n",
       "    }\n",
       "\n",
       "    .dataframe tbody tr th {\n",
       "        vertical-align: top;\n",
       "    }\n",
       "\n",
       "    .dataframe thead th {\n",
       "        text-align: right;\n",
       "    }\n",
       "</style>\n",
       "<table border=\"1\" class=\"dataframe\">\n",
       "  <thead>\n",
       "    <tr style=\"text-align: right;\">\n",
       "      <th></th>\n",
       "      <th>F1</th>\n",
       "      <th>precision</th>\n",
       "      <th>recall</th>\n",
       "      <th>AUC</th>\n",
       "    </tr>\n",
       "  </thead>\n",
       "  <tbody>\n",
       "    <tr>\n",
       "      <th>0</th>\n",
       "      <td>0.851064</td>\n",
       "      <td>0.816327</td>\n",
       "      <td>0.888889</td>\n",
       "      <td>0.762012</td>\n",
       "    </tr>\n",
       "  </tbody>\n",
       "</table>\n",
       "</div>"
      ],
      "text/plain": [
       "         F1  precision    recall       AUC\n",
       "0  0.851064   0.816327  0.888889  0.762012"
      ]
     },
     "metadata": {},
     "output_type": "display_data"
    },
    {
     "data": {
      "text/html": [
       "<div>\n",
       "<style scoped>\n",
       "    .dataframe tbody tr th:only-of-type {\n",
       "        vertical-align: middle;\n",
       "    }\n",
       "\n",
       "    .dataframe tbody tr th {\n",
       "        vertical-align: top;\n",
       "    }\n",
       "\n",
       "    .dataframe thead th {\n",
       "        text-align: right;\n",
       "    }\n",
       "</style>\n",
       "<table border=\"1\" class=\"dataframe\">\n",
       "  <thead>\n",
       "    <tr style=\"text-align: right;\">\n",
       "      <th></th>\n",
       "      <th>F1</th>\n",
       "      <th>precision</th>\n",
       "      <th>recall</th>\n",
       "      <th>AUC</th>\n",
       "    </tr>\n",
       "  </thead>\n",
       "  <tbody>\n",
       "    <tr>\n",
       "      <th>0</th>\n",
       "      <td>0.875</td>\n",
       "      <td>0.868613</td>\n",
       "      <td>0.881481</td>\n",
       "      <td>0.819119</td>\n",
       "    </tr>\n",
       "  </tbody>\n",
       "</table>\n",
       "</div>"
      ],
      "text/plain": [
       "      F1  precision    recall       AUC\n",
       "0  0.875   0.868613  0.881481  0.819119"
      ]
     },
     "metadata": {},
     "output_type": "display_data"
    }
   ],
   "source": [
    "SVC_model_trans = SVC()\n",
    "\n",
    "SVC_model_trans.fit(trainTransformed, y_train)\n",
    "SVC_prediction_trans = SVC_model_trans.predict(testTransformed)\n",
    "\n",
    "data = display_scores(SVC_prediction, y_test)\n",
    "data_SVM_transformation = display_scores(SVC_prediction_trans, y_test)"
   ]
  },
  {
   "cell_type": "markdown",
   "metadata": {},
   "source": [
    "#### KNN - feature transformation"
   ]
  },
  {
   "cell_type": "code",
   "execution_count": 1542,
   "metadata": {},
   "outputs": [
    {
     "data": {
      "text/html": [
       "<div>\n",
       "<style scoped>\n",
       "    .dataframe tbody tr th:only-of-type {\n",
       "        vertical-align: middle;\n",
       "    }\n",
       "\n",
       "    .dataframe tbody tr th {\n",
       "        vertical-align: top;\n",
       "    }\n",
       "\n",
       "    .dataframe thead th {\n",
       "        text-align: right;\n",
       "    }\n",
       "</style>\n",
       "<table border=\"1\" class=\"dataframe\">\n",
       "  <thead>\n",
       "    <tr style=\"text-align: right;\">\n",
       "      <th></th>\n",
       "      <th>F1</th>\n",
       "      <th>precision</th>\n",
       "      <th>recall</th>\n",
       "      <th>AUC</th>\n",
       "    </tr>\n",
       "  </thead>\n",
       "  <tbody>\n",
       "    <tr>\n",
       "      <th>0</th>\n",
       "      <td>0.840989</td>\n",
       "      <td>0.804054</td>\n",
       "      <td>0.881481</td>\n",
       "      <td>0.744795</td>\n",
       "    </tr>\n",
       "  </tbody>\n",
       "</table>\n",
       "</div>"
      ],
      "text/plain": [
       "         F1  precision    recall       AUC\n",
       "0  0.840989   0.804054  0.881481  0.744795"
      ]
     },
     "metadata": {},
     "output_type": "display_data"
    },
    {
     "data": {
      "text/html": [
       "<div>\n",
       "<style scoped>\n",
       "    .dataframe tbody tr th:only-of-type {\n",
       "        vertical-align: middle;\n",
       "    }\n",
       "\n",
       "    .dataframe tbody tr th {\n",
       "        vertical-align: top;\n",
       "    }\n",
       "\n",
       "    .dataframe thead th {\n",
       "        text-align: right;\n",
       "    }\n",
       "</style>\n",
       "<table border=\"1\" class=\"dataframe\">\n",
       "  <thead>\n",
       "    <tr style=\"text-align: right;\">\n",
       "      <th></th>\n",
       "      <th>F1</th>\n",
       "      <th>precision</th>\n",
       "      <th>recall</th>\n",
       "      <th>AUC</th>\n",
       "    </tr>\n",
       "  </thead>\n",
       "  <tbody>\n",
       "    <tr>\n",
       "      <th>0</th>\n",
       "      <td>0.855124</td>\n",
       "      <td>0.817568</td>\n",
       "      <td>0.896296</td>\n",
       "      <td>0.765716</td>\n",
       "    </tr>\n",
       "  </tbody>\n",
       "</table>\n",
       "</div>"
      ],
      "text/plain": [
       "         F1  precision    recall       AUC\n",
       "0  0.855124   0.817568  0.896296  0.765716"
      ]
     },
     "metadata": {},
     "output_type": "display_data"
    }
   ],
   "source": [
    "KNN_model_trans = KNeighborsClassifier(n_neighbors=2)\n",
    "\n",
    "KNN_model_trans.fit(trainTransformed, y_train)\n",
    "KNN_prediction_trans = KNN_model_trans.predict(testTransformed)\n",
    "data = display_scores(KNN_prediction, y_test)\n",
    "data_KNN_transformation = display_scores(KNN_prediction_trans, y_test)\n",
    "\n",
    "X_train = trainTransformed\n",
    "X_test = testTransformed"
   ]
  },
  {
   "cell_type": "markdown",
   "metadata": {},
   "source": [
    "## Evaluation"
   ]
  },
  {
   "cell_type": "code",
   "execution_count": 1557,
   "metadata": {},
   "outputs": [
    {
     "data": {
      "text/html": [
       "<div>\n",
       "<style scoped>\n",
       "    .dataframe tbody tr th:only-of-type {\n",
       "        vertical-align: middle;\n",
       "    }\n",
       "\n",
       "    .dataframe tbody tr th {\n",
       "        vertical-align: top;\n",
       "    }\n",
       "\n",
       "    .dataframe thead th {\n",
       "        text-align: right;\n",
       "    }\n",
       "</style>\n",
       "<table border=\"1\" class=\"dataframe\">\n",
       "  <thead>\n",
       "    <tr style=\"text-align: right;\">\n",
       "      <th></th>\n",
       "      <th>F1</th>\n",
       "      <th>precision</th>\n",
       "      <th>recall</th>\n",
       "      <th>AUC</th>\n",
       "    </tr>\n",
       "  </thead>\n",
       "  <tbody>\n",
       "    <tr>\n",
       "      <th>LR - transformation</th>\n",
       "      <td>0.901099</td>\n",
       "      <td>0.891304</td>\n",
       "      <td>0.911111</td>\n",
       "      <td>0.854204</td>\n",
       "    </tr>\n",
       "    <tr>\n",
       "      <th>LR - normal</th>\n",
       "      <td>0.875000</td>\n",
       "      <td>0.868613</td>\n",
       "      <td>0.881481</td>\n",
       "      <td>0.819119</td>\n",
       "    </tr>\n",
       "    <tr>\n",
       "      <th>SVM - transformation</th>\n",
       "      <td>0.875000</td>\n",
       "      <td>0.868613</td>\n",
       "      <td>0.881481</td>\n",
       "      <td>0.819119</td>\n",
       "    </tr>\n",
       "    <tr>\n",
       "      <th>LR - lasso</th>\n",
       "      <td>0.870849</td>\n",
       "      <td>0.867647</td>\n",
       "      <td>0.874074</td>\n",
       "      <td>0.815415</td>\n",
       "    </tr>\n",
       "    <tr>\n",
       "      <th>SVM - normal</th>\n",
       "      <td>0.855124</td>\n",
       "      <td>0.817568</td>\n",
       "      <td>0.896296</td>\n",
       "      <td>0.765716</td>\n",
       "    </tr>\n",
       "    <tr>\n",
       "      <th>KNN - transformation</th>\n",
       "      <td>0.855124</td>\n",
       "      <td>0.817568</td>\n",
       "      <td>0.896296</td>\n",
       "      <td>0.765716</td>\n",
       "    </tr>\n",
       "    <tr>\n",
       "      <th>SVM - lasso</th>\n",
       "      <td>0.851064</td>\n",
       "      <td>0.816327</td>\n",
       "      <td>0.888889</td>\n",
       "      <td>0.762012</td>\n",
       "    </tr>\n",
       "    <tr>\n",
       "      <th>KNN - correlation</th>\n",
       "      <td>0.843972</td>\n",
       "      <td>0.809524</td>\n",
       "      <td>0.881481</td>\n",
       "      <td>0.751552</td>\n",
       "    </tr>\n",
       "    <tr>\n",
       "      <th>LR - correlation</th>\n",
       "      <td>0.843284</td>\n",
       "      <td>0.849624</td>\n",
       "      <td>0.837037</td>\n",
       "      <td>0.783383</td>\n",
       "    </tr>\n",
       "    <tr>\n",
       "      <th>KNN - normal</th>\n",
       "      <td>0.840989</td>\n",
       "      <td>0.804054</td>\n",
       "      <td>0.881481</td>\n",
       "      <td>0.744795</td>\n",
       "    </tr>\n",
       "    <tr>\n",
       "      <th>KNN - lasso</th>\n",
       "      <td>0.840989</td>\n",
       "      <td>0.804054</td>\n",
       "      <td>0.881481</td>\n",
       "      <td>0.744795</td>\n",
       "    </tr>\n",
       "    <tr>\n",
       "      <th>SVM - correlation</th>\n",
       "      <td>0.827068</td>\n",
       "      <td>0.839695</td>\n",
       "      <td>0.814815</td>\n",
       "      <td>0.765516</td>\n",
       "    </tr>\n",
       "    <tr>\n",
       "      <th>KNN - information gain</th>\n",
       "      <td>0.826255</td>\n",
       "      <td>0.862903</td>\n",
       "      <td>0.792593</td>\n",
       "      <td>0.781431</td>\n",
       "    </tr>\n",
       "    <tr>\n",
       "      <th>LR - information gain</th>\n",
       "      <td>0.823529</td>\n",
       "      <td>0.817518</td>\n",
       "      <td>0.829630</td>\n",
       "      <td>0.745896</td>\n",
       "    </tr>\n",
       "    <tr>\n",
       "      <th>SVM - information gain</th>\n",
       "      <td>0.810036</td>\n",
       "      <td>0.784722</td>\n",
       "      <td>0.837037</td>\n",
       "      <td>0.709059</td>\n",
       "    </tr>\n",
       "  </tbody>\n",
       "</table>\n",
       "</div>"
      ],
      "text/plain": [
       "                              F1  precision    recall       AUC\n",
       "LR - transformation     0.901099   0.891304  0.911111  0.854204\n",
       "LR - normal             0.875000   0.868613  0.881481  0.819119\n",
       "SVM - transformation    0.875000   0.868613  0.881481  0.819119\n",
       "LR - lasso              0.870849   0.867647  0.874074  0.815415\n",
       "SVM - normal            0.855124   0.817568  0.896296  0.765716\n",
       "KNN - transformation    0.855124   0.817568  0.896296  0.765716\n",
       "SVM - lasso             0.851064   0.816327  0.888889  0.762012\n",
       "KNN - correlation       0.843972   0.809524  0.881481  0.751552\n",
       "LR - correlation        0.843284   0.849624  0.837037  0.783383\n",
       "KNN - normal            0.840989   0.804054  0.881481  0.744795\n",
       "KNN - lasso             0.840989   0.804054  0.881481  0.744795\n",
       "SVM - correlation       0.827068   0.839695  0.814815  0.765516\n",
       "KNN - information gain  0.826255   0.862903  0.792593  0.781431\n",
       "LR - information gain   0.823529   0.817518  0.829630  0.745896\n",
       "SVM - information gain  0.810036   0.784722  0.837037  0.709059"
      ]
     },
     "metadata": {},
     "output_type": "display_data"
    }
   ],
   "source": [
    "data = np.array([data_LR[0], data_SVM[0], data_KNN[0],\n",
    "                 data_LR_correlation[0], data_SVM_correlation[0], data_KNN_correlation[0],\n",
    "                 data_LR_information[0], data_SVM_information[0], data_KNN_information[0],\n",
    "                 data_LR_lasso[0], data_SVM_lasso[0], data_KNN_lasso[0],\n",
    "                 data_LR_transformation[0], data_SVM_transformation[0], data_KNN_transformation[0]])\n",
    "scores = pd.DataFrame(data, columns=['F1','precision','recall','AUC'])\n",
    "scores.index = ['LR - normal', 'SVM - normal', 'KNN - normal',\n",
    "                'LR - correlation', 'SVM - correlation', 'KNN - correlation',\n",
    "                'LR - information gain', 'SVM - information gain', 'KNN - information gain',\n",
    "                'LR - lasso', 'SVM - lasso', 'KNN - lasso',\n",
    "                'LR - transformation', 'SVM - transformation', 'KNN - transformation']\n",
    "scores.sort_values(by=['F1'],inplace=True,ascending=False)\n",
    "display(scores)"
   ]
  },
  {
   "cell_type": "markdown",
   "metadata": {},
   "source": [
    "### K-fold Cross validation"
   ]
  },
  {
   "cell_type": "code",
   "execution_count": 1544,
   "metadata": {},
   "outputs": [],
   "source": [
    "from numpy import mean\n",
    "from numpy import std\n",
    "\n",
    "from sklearn.model_selection import RepeatedKFold\n",
    "from sklearn.model_selection import cross_validate\n",
    "\n",
    "def k_fold_cross_validation(model):\n",
    "    # prepare the cross-validation procedure\n",
    "    cv = RepeatedKFold(n_splits=10, n_repeats=5, random_state=1)\n",
    "    # create model\n",
    "    modelSVM = SVC()\n",
    "    X = X_train\n",
    "    y = y_train\n",
    "    \n",
    "\n",
    "    #scoring\n",
    "    scoring = ('f1', 'precision', 'recall', 'roc_auc')\n",
    "    # evaluate model\n",
    "    results = cross_validate(model, X, y, scoring=scoring, cv=cv, n_jobs=-1)\n",
    " \n",
    "    f1_mean = mean(results['test_f1'])\n",
    "    precision_mean = mean(results['test_precision'])\n",
    "    recall_mean = mean(results['test_recall'])\n",
    "    auc_mean = mean(results['test_roc_auc'])\n",
    "    \n",
    "    f1_std = std(results['test_f1'])\n",
    "    precision_std = std(results['test_precision'])\n",
    "    recall_std = std(results['test_recall'])\n",
    "    auc_std = std(results['test_roc_auc'])\n",
    "\n",
    "    data = np.array([[f1_mean,precision_mean,recall_mean,auc_mean],\n",
    "                     [f1_std,precision_std,recall_std,auc_std]])\n",
    "    scores = pd.DataFrame(data, columns=['F1','precision','recall','AUC'])\n",
    "    scores.index = ['mean', 'std']\n",
    "    display(scores)\n",
    "    return data"
   ]
  },
  {
   "cell_type": "markdown",
   "metadata": {},
   "source": [
    "#### Logistic regression - K-fold Cross validation on train set"
   ]
  },
  {
   "cell_type": "code",
   "execution_count": 1545,
   "metadata": {},
   "outputs": [
    {
     "data": {
      "text/html": [
       "<div>\n",
       "<style scoped>\n",
       "    .dataframe tbody tr th:only-of-type {\n",
       "        vertical-align: middle;\n",
       "    }\n",
       "\n",
       "    .dataframe tbody tr th {\n",
       "        vertical-align: top;\n",
       "    }\n",
       "\n",
       "    .dataframe thead th {\n",
       "        text-align: right;\n",
       "    }\n",
       "</style>\n",
       "<table border=\"1\" class=\"dataframe\">\n",
       "  <thead>\n",
       "    <tr style=\"text-align: right;\">\n",
       "      <th></th>\n",
       "      <th>F1</th>\n",
       "      <th>precision</th>\n",
       "      <th>recall</th>\n",
       "      <th>AUC</th>\n",
       "    </tr>\n",
       "  </thead>\n",
       "  <tbody>\n",
       "    <tr>\n",
       "      <th>mean</th>\n",
       "      <td>0.895670</td>\n",
       "      <td>0.885979</td>\n",
       "      <td>0.907419</td>\n",
       "      <td>0.917005</td>\n",
       "    </tr>\n",
       "    <tr>\n",
       "      <th>std</th>\n",
       "      <td>0.025785</td>\n",
       "      <td>0.041226</td>\n",
       "      <td>0.034882</td>\n",
       "      <td>0.031074</td>\n",
       "    </tr>\n",
       "  </tbody>\n",
       "</table>\n",
       "</div>"
      ],
      "text/plain": [
       "            F1  precision    recall       AUC\n",
       "mean  0.895670   0.885979  0.907419  0.917005\n",
       "std   0.025785   0.041226  0.034882  0.031074"
      ]
     },
     "metadata": {},
     "output_type": "display_data"
    }
   ],
   "source": [
    "modelLR = LogisticRegression(solver='lbfgs',max_iter=10000)\n",
    "dataLR = k_fold_cross_validation(modelLR)\n",
    "LR_f1 = dataLR[:,0]\n",
    "LR_precision = dataLR[:,1]\n",
    "LR_recall = dataLR[:,2]\n",
    "LR_auc = dataLR[:,3]\n",
    "LR_means = dataLR[0]"
   ]
  },
  {
   "cell_type": "markdown",
   "metadata": {},
   "source": [
    "#### SVM - K-fold Cross validation on train set"
   ]
  },
  {
   "cell_type": "code",
   "execution_count": 1546,
   "metadata": {},
   "outputs": [
    {
     "data": {
      "text/html": [
       "<div>\n",
       "<style scoped>\n",
       "    .dataframe tbody tr th:only-of-type {\n",
       "        vertical-align: middle;\n",
       "    }\n",
       "\n",
       "    .dataframe tbody tr th {\n",
       "        vertical-align: top;\n",
       "    }\n",
       "\n",
       "    .dataframe thead th {\n",
       "        text-align: right;\n",
       "    }\n",
       "</style>\n",
       "<table border=\"1\" class=\"dataframe\">\n",
       "  <thead>\n",
       "    <tr style=\"text-align: right;\">\n",
       "      <th></th>\n",
       "      <th>F1</th>\n",
       "      <th>precision</th>\n",
       "      <th>recall</th>\n",
       "      <th>AUC</th>\n",
       "    </tr>\n",
       "  </thead>\n",
       "  <tbody>\n",
       "    <tr>\n",
       "      <th>mean</th>\n",
       "      <td>0.876609</td>\n",
       "      <td>0.85718</td>\n",
       "      <td>0.899046</td>\n",
       "      <td>0.903232</td>\n",
       "    </tr>\n",
       "    <tr>\n",
       "      <th>std</th>\n",
       "      <td>0.030066</td>\n",
       "      <td>0.04786</td>\n",
       "      <td>0.034453</td>\n",
       "      <td>0.032560</td>\n",
       "    </tr>\n",
       "  </tbody>\n",
       "</table>\n",
       "</div>"
      ],
      "text/plain": [
       "            F1  precision    recall       AUC\n",
       "mean  0.876609    0.85718  0.899046  0.903232\n",
       "std   0.030066    0.04786  0.034453  0.032560"
      ]
     },
     "metadata": {},
     "output_type": "display_data"
    }
   ],
   "source": [
    "modelSVM = SVC()\n",
    "dataSVM = k_fold_cross_validation(modelSVM)\n",
    "SVM_f1 = dataSVM[:,0]\n",
    "SVM_precision = dataSVM[:,1]\n",
    "SVM_recall = dataSVM[:,2]\n",
    "SVM_auc = dataSVM[:,3]\n",
    "SVM_means = dataSVM[0]"
   ]
  },
  {
   "cell_type": "markdown",
   "metadata": {},
   "source": [
    "#### KNN - K-fold Cross validation on train set"
   ]
  },
  {
   "cell_type": "code",
   "execution_count": 1547,
   "metadata": {},
   "outputs": [
    {
     "data": {
      "text/html": [
       "<div>\n",
       "<style scoped>\n",
       "    .dataframe tbody tr th:only-of-type {\n",
       "        vertical-align: middle;\n",
       "    }\n",
       "\n",
       "    .dataframe tbody tr th {\n",
       "        vertical-align: top;\n",
       "    }\n",
       "\n",
       "    .dataframe thead th {\n",
       "        text-align: right;\n",
       "    }\n",
       "</style>\n",
       "<table border=\"1\" class=\"dataframe\">\n",
       "  <thead>\n",
       "    <tr style=\"text-align: right;\">\n",
       "      <th></th>\n",
       "      <th>F1</th>\n",
       "      <th>precision</th>\n",
       "      <th>recall</th>\n",
       "      <th>AUC</th>\n",
       "    </tr>\n",
       "  </thead>\n",
       "  <tbody>\n",
       "    <tr>\n",
       "      <th>mean</th>\n",
       "      <td>0.881333</td>\n",
       "      <td>0.844673</td>\n",
       "      <td>0.922562</td>\n",
       "      <td>0.855483</td>\n",
       "    </tr>\n",
       "    <tr>\n",
       "      <th>std</th>\n",
       "      <td>0.031689</td>\n",
       "      <td>0.043212</td>\n",
       "      <td>0.031784</td>\n",
       "      <td>0.046217</td>\n",
       "    </tr>\n",
       "  </tbody>\n",
       "</table>\n",
       "</div>"
      ],
      "text/plain": [
       "            F1  precision    recall       AUC\n",
       "mean  0.881333   0.844673  0.922562  0.855483\n",
       "std   0.031689   0.043212  0.031784  0.046217"
      ]
     },
     "metadata": {},
     "output_type": "display_data"
    }
   ],
   "source": [
    "modelKNN = KNeighborsClassifier(n_neighbors=2)\n",
    "dataKNN = k_fold_cross_validation(modelKNN)\n",
    "KNN_f1 = dataKNN[:,0]\n",
    "KNN_precision = dataKNN[:,1]\n",
    "KNN_recall = dataKNN[:,2]\n",
    "KNN_auc = dataKNN[:,3]\n",
    "KNN_means = dataKNN[0]\n"
   ]
  },
  {
   "cell_type": "markdown",
   "metadata": {},
   "source": [
    "### Evaluation on train set"
   ]
  },
  {
   "cell_type": "code",
   "execution_count": 1548,
   "metadata": {},
   "outputs": [],
   "source": [
    "def evaluate(data):\n",
    "    evaluation = pd.DataFrame(data, columns=['Mean', 'Std deviation'])\n",
    "    evaluation.index = ['LR', 'SVM', 'KNN']\n",
    "    evaluation.sort_values(by=['Mean'],inplace=True,ascending=False)\n",
    "    display(evaluation)"
   ]
  },
  {
   "cell_type": "markdown",
   "metadata": {},
   "source": [
    "#### F1 - evaluation"
   ]
  },
  {
   "cell_type": "code",
   "execution_count": 1549,
   "metadata": {},
   "outputs": [
    {
     "data": {
      "text/html": [
       "<div>\n",
       "<style scoped>\n",
       "    .dataframe tbody tr th:only-of-type {\n",
       "        vertical-align: middle;\n",
       "    }\n",
       "\n",
       "    .dataframe tbody tr th {\n",
       "        vertical-align: top;\n",
       "    }\n",
       "\n",
       "    .dataframe thead th {\n",
       "        text-align: right;\n",
       "    }\n",
       "</style>\n",
       "<table border=\"1\" class=\"dataframe\">\n",
       "  <thead>\n",
       "    <tr style=\"text-align: right;\">\n",
       "      <th></th>\n",
       "      <th>Mean</th>\n",
       "      <th>Std deviation</th>\n",
       "    </tr>\n",
       "  </thead>\n",
       "  <tbody>\n",
       "    <tr>\n",
       "      <th>LR</th>\n",
       "      <td>0.895670</td>\n",
       "      <td>0.025785</td>\n",
       "    </tr>\n",
       "    <tr>\n",
       "      <th>KNN</th>\n",
       "      <td>0.881333</td>\n",
       "      <td>0.031689</td>\n",
       "    </tr>\n",
       "    <tr>\n",
       "      <th>SVM</th>\n",
       "      <td>0.876609</td>\n",
       "      <td>0.030066</td>\n",
       "    </tr>\n",
       "  </tbody>\n",
       "</table>\n",
       "</div>"
      ],
      "text/plain": [
       "         Mean  Std deviation\n",
       "LR   0.895670       0.025785\n",
       "KNN  0.881333       0.031689\n",
       "SVM  0.876609       0.030066"
      ]
     },
     "metadata": {},
     "output_type": "display_data"
    }
   ],
   "source": [
    "f1_data = np.array([LR_f1, SVM_f1, KNN_f1])\n",
    "evaluate(f1_data)"
   ]
  },
  {
   "cell_type": "markdown",
   "metadata": {},
   "source": [
    "According to metric F1, the best results were returned when using Logistic Regression."
   ]
  },
  {
   "cell_type": "markdown",
   "metadata": {},
   "source": [
    "#### Precision - evaluation"
   ]
  },
  {
   "cell_type": "code",
   "execution_count": 1550,
   "metadata": {},
   "outputs": [
    {
     "data": {
      "text/html": [
       "<div>\n",
       "<style scoped>\n",
       "    .dataframe tbody tr th:only-of-type {\n",
       "        vertical-align: middle;\n",
       "    }\n",
       "\n",
       "    .dataframe tbody tr th {\n",
       "        vertical-align: top;\n",
       "    }\n",
       "\n",
       "    .dataframe thead th {\n",
       "        text-align: right;\n",
       "    }\n",
       "</style>\n",
       "<table border=\"1\" class=\"dataframe\">\n",
       "  <thead>\n",
       "    <tr style=\"text-align: right;\">\n",
       "      <th></th>\n",
       "      <th>Mean</th>\n",
       "      <th>Std deviation</th>\n",
       "    </tr>\n",
       "  </thead>\n",
       "  <tbody>\n",
       "    <tr>\n",
       "      <th>LR</th>\n",
       "      <td>0.885979</td>\n",
       "      <td>0.041226</td>\n",
       "    </tr>\n",
       "    <tr>\n",
       "      <th>SVM</th>\n",
       "      <td>0.857180</td>\n",
       "      <td>0.047860</td>\n",
       "    </tr>\n",
       "    <tr>\n",
       "      <th>KNN</th>\n",
       "      <td>0.844673</td>\n",
       "      <td>0.043212</td>\n",
       "    </tr>\n",
       "  </tbody>\n",
       "</table>\n",
       "</div>"
      ],
      "text/plain": [
       "         Mean  Std deviation\n",
       "LR   0.885979       0.041226\n",
       "SVM  0.857180       0.047860\n",
       "KNN  0.844673       0.043212"
      ]
     },
     "metadata": {},
     "output_type": "display_data"
    }
   ],
   "source": [
    "precision_data = np.array([LR_precision, SVM_precision, KNN_precision])\n",
    "evaluate(precision_data)"
   ]
  },
  {
   "cell_type": "markdown",
   "metadata": {},
   "source": [
    "According to metric Precision, the best results were returned when using Logistic Regression."
   ]
  },
  {
   "cell_type": "markdown",
   "metadata": {},
   "source": [
    "#### Recall - evaluation"
   ]
  },
  {
   "cell_type": "code",
   "execution_count": 1551,
   "metadata": {},
   "outputs": [
    {
     "data": {
      "text/html": [
       "<div>\n",
       "<style scoped>\n",
       "    .dataframe tbody tr th:only-of-type {\n",
       "        vertical-align: middle;\n",
       "    }\n",
       "\n",
       "    .dataframe tbody tr th {\n",
       "        vertical-align: top;\n",
       "    }\n",
       "\n",
       "    .dataframe thead th {\n",
       "        text-align: right;\n",
       "    }\n",
       "</style>\n",
       "<table border=\"1\" class=\"dataframe\">\n",
       "  <thead>\n",
       "    <tr style=\"text-align: right;\">\n",
       "      <th></th>\n",
       "      <th>Mean</th>\n",
       "      <th>Std deviation</th>\n",
       "    </tr>\n",
       "  </thead>\n",
       "  <tbody>\n",
       "    <tr>\n",
       "      <th>KNN</th>\n",
       "      <td>0.922562</td>\n",
       "      <td>0.031784</td>\n",
       "    </tr>\n",
       "    <tr>\n",
       "      <th>LR</th>\n",
       "      <td>0.907419</td>\n",
       "      <td>0.034882</td>\n",
       "    </tr>\n",
       "    <tr>\n",
       "      <th>SVM</th>\n",
       "      <td>0.899046</td>\n",
       "      <td>0.034453</td>\n",
       "    </tr>\n",
       "  </tbody>\n",
       "</table>\n",
       "</div>"
      ],
      "text/plain": [
       "         Mean  Std deviation\n",
       "KNN  0.922562       0.031784\n",
       "LR   0.907419       0.034882\n",
       "SVM  0.899046       0.034453"
      ]
     },
     "metadata": {},
     "output_type": "display_data"
    }
   ],
   "source": [
    "recall_data = np.array([LR_recall, SVM_recall, KNN_recall])\n",
    "evaluate(recall_data)"
   ]
  },
  {
   "cell_type": "markdown",
   "metadata": {},
   "source": [
    "According to metric Recall, the best results were returned when using KNN."
   ]
  },
  {
   "cell_type": "markdown",
   "metadata": {},
   "source": [
    "#### AUC - evaluation"
   ]
  },
  {
   "cell_type": "code",
   "execution_count": 1552,
   "metadata": {},
   "outputs": [
    {
     "data": {
      "text/html": [
       "<div>\n",
       "<style scoped>\n",
       "    .dataframe tbody tr th:only-of-type {\n",
       "        vertical-align: middle;\n",
       "    }\n",
       "\n",
       "    .dataframe tbody tr th {\n",
       "        vertical-align: top;\n",
       "    }\n",
       "\n",
       "    .dataframe thead th {\n",
       "        text-align: right;\n",
       "    }\n",
       "</style>\n",
       "<table border=\"1\" class=\"dataframe\">\n",
       "  <thead>\n",
       "    <tr style=\"text-align: right;\">\n",
       "      <th></th>\n",
       "      <th>Mean</th>\n",
       "      <th>Std deviation</th>\n",
       "    </tr>\n",
       "  </thead>\n",
       "  <tbody>\n",
       "    <tr>\n",
       "      <th>LR</th>\n",
       "      <td>0.917005</td>\n",
       "      <td>0.031074</td>\n",
       "    </tr>\n",
       "    <tr>\n",
       "      <th>SVM</th>\n",
       "      <td>0.903232</td>\n",
       "      <td>0.032560</td>\n",
       "    </tr>\n",
       "    <tr>\n",
       "      <th>KNN</th>\n",
       "      <td>0.855483</td>\n",
       "      <td>0.046217</td>\n",
       "    </tr>\n",
       "  </tbody>\n",
       "</table>\n",
       "</div>"
      ],
      "text/plain": [
       "         Mean  Std deviation\n",
       "LR   0.917005       0.031074\n",
       "SVM  0.903232       0.032560\n",
       "KNN  0.855483       0.046217"
      ]
     },
     "metadata": {},
     "output_type": "display_data"
    }
   ],
   "source": [
    "auc_data = np.array([LR_auc, SVM_auc, KNN_auc])\n",
    "evaluate(auc_data)"
   ]
  },
  {
   "cell_type": "markdown",
   "metadata": {},
   "source": [
    "According to metric AUC, the best results were returned when using Logistic Regression."
   ]
  },
  {
   "cell_type": "code",
   "execution_count": 1553,
   "metadata": {},
   "outputs": [
    {
     "data": {
      "text/html": [
       "<div>\n",
       "<style scoped>\n",
       "    .dataframe tbody tr th:only-of-type {\n",
       "        vertical-align: middle;\n",
       "    }\n",
       "\n",
       "    .dataframe tbody tr th {\n",
       "        vertical-align: top;\n",
       "    }\n",
       "\n",
       "    .dataframe thead th {\n",
       "        text-align: right;\n",
       "    }\n",
       "</style>\n",
       "<table border=\"1\" class=\"dataframe\">\n",
       "  <thead>\n",
       "    <tr style=\"text-align: right;\">\n",
       "      <th></th>\n",
       "      <th>F1</th>\n",
       "      <th>precision</th>\n",
       "      <th>recall</th>\n",
       "      <th>AUC</th>\n",
       "    </tr>\n",
       "  </thead>\n",
       "  <tbody>\n",
       "    <tr>\n",
       "      <th>LR</th>\n",
       "      <td>0.895670</td>\n",
       "      <td>0.885979</td>\n",
       "      <td>0.907419</td>\n",
       "      <td>0.917005</td>\n",
       "    </tr>\n",
       "    <tr>\n",
       "      <th>SVM</th>\n",
       "      <td>0.876609</td>\n",
       "      <td>0.857180</td>\n",
       "      <td>0.899046</td>\n",
       "      <td>0.903232</td>\n",
       "    </tr>\n",
       "    <tr>\n",
       "      <th>KNN</th>\n",
       "      <td>0.881333</td>\n",
       "      <td>0.844673</td>\n",
       "      <td>0.922562</td>\n",
       "      <td>0.855483</td>\n",
       "    </tr>\n",
       "  </tbody>\n",
       "</table>\n",
       "</div>"
      ],
      "text/plain": [
       "           F1  precision    recall       AUC\n",
       "LR   0.895670   0.885979  0.907419  0.917005\n",
       "SVM  0.876609   0.857180  0.899046  0.903232\n",
       "KNN  0.881333   0.844673  0.922562  0.855483"
      ]
     },
     "metadata": {},
     "output_type": "display_data"
    },
    {
     "name": "stdout",
     "output_type": "stream",
     "text": [
      "[[0.89567018 0.88597902 0.90741903 0.91700492]\n",
      " [0.87660911 0.85717963 0.89904608 0.90323179]\n",
      " [0.88133313 0.84467316 0.92256213 0.85548343]]\n"
     ]
    }
   ],
   "source": [
    "data = np.array([LR_means, SVM_means, KNN_means])\n",
    "scores = pd.DataFrame(data, columns=['F1','precision','recall','AUC'])\n",
    "scores.index = ['LR', 'SVM', 'KNN']\n",
    "display(scores)\n",
    "print(data)"
   ]
  },
  {
   "cell_type": "markdown",
   "metadata": {},
   "source": [
    "Logistic Regression performed the best according to F1, Precision and AUC, and second best in Recall. The differences between the models were however not significant.\n",
    "\n",
    "For a prediction on the Test set we will therefore use Logistic Regression as our best model."
   ]
  },
  {
   "cell_type": "markdown",
   "metadata": {},
   "source": [
    "#### Prediction on Test set with Logistic Regression\n"
   ]
  },
  {
   "cell_type": "code",
   "execution_count": 1554,
   "metadata": {},
   "outputs": [
    {
     "data": {
      "text/html": [
       "<div>\n",
       "<style scoped>\n",
       "    .dataframe tbody tr th:only-of-type {\n",
       "        vertical-align: middle;\n",
       "    }\n",
       "\n",
       "    .dataframe tbody tr th {\n",
       "        vertical-align: top;\n",
       "    }\n",
       "\n",
       "    .dataframe thead th {\n",
       "        text-align: right;\n",
       "    }\n",
       "</style>\n",
       "<table border=\"1\" class=\"dataframe\">\n",
       "  <thead>\n",
       "    <tr style=\"text-align: right;\">\n",
       "      <th></th>\n",
       "      <th>F1</th>\n",
       "      <th>precision</th>\n",
       "      <th>recall</th>\n",
       "      <th>AUC</th>\n",
       "    </tr>\n",
       "  </thead>\n",
       "  <tbody>\n",
       "    <tr>\n",
       "      <th>Logistic Regression</th>\n",
       "      <td>0.901099</td>\n",
       "      <td>0.911111</td>\n",
       "      <td>0.891304</td>\n",
       "      <td>0.861145</td>\n",
       "    </tr>\n",
       "    <tr>\n",
       "      <th>Majority Classifier</th>\n",
       "      <td>0.784884</td>\n",
       "      <td>0.645933</td>\n",
       "      <td>1.000000</td>\n",
       "      <td>0.500000</td>\n",
       "    </tr>\n",
       "    <tr>\n",
       "      <th>Random Classifier</th>\n",
       "      <td>0.526316</td>\n",
       "      <td>0.580357</td>\n",
       "      <td>0.481481</td>\n",
       "      <td>0.423173</td>\n",
       "    </tr>\n",
       "  </tbody>\n",
       "</table>\n",
       "</div>"
      ],
      "text/plain": [
       "                           F1  precision    recall       AUC\n",
       "Logistic Regression  0.901099   0.911111  0.891304  0.861145\n",
       "Majority Classifier  0.784884   0.645933  1.000000  0.500000\n",
       "Random Classifier    0.526316   0.580357  0.481481  0.423173"
      ]
     },
     "metadata": {},
     "output_type": "display_data"
    }
   ],
   "source": [
    "model = LogisticRegression(solver='lbfgs',max_iter=10000)\n",
    "model.fit(X_train, y_train)\n",
    "LR_prediction = model.predict(X_test)\n",
    "\n",
    "f1 = f1_score(LR_prediction,y_test)\n",
    "precision = precision_score(LR_prediction,y_test)\n",
    "recall = recall_score(LR_prediction,y_test)\n",
    "AUC = roc_auc_score(LR_prediction,y_test)\n",
    "\n",
    "dataLR = np.array([[f1,precision,recall,AUC]])\n",
    "\n",
    "data = np.array([dataLR[0], data_MC[0], data_Ran[0]])\n",
    "scores = pd.DataFrame(data, columns=['F1','precision','recall','AUC'])\n",
    "scores.index = ['Logistic Regression', 'Majority Classifier', 'Random Classifier']\n",
    "display(scores)\n",
    "\n"
   ]
  },
  {
   "cell_type": "markdown",
   "metadata": {},
   "source": [
    "In comparison with Majority and Random classifiers, Logistic Regression performed significantly better."
   ]
  }
 ],
 "metadata": {
  "kernelspec": {
   "display_name": "Python 3.9.10 64-bit",
   "language": "python",
   "name": "python3"
  },
  "language_info": {
   "codemirror_mode": {
    "name": "ipython",
    "version": 3
   },
   "file_extension": ".py",
   "mimetype": "text/x-python",
   "name": "python",
   "nbconvert_exporter": "python",
   "pygments_lexer": "ipython3",
   "version": "3.9.10"
  },
  "orig_nbformat": 4,
  "vscode": {
   "interpreter": {
    "hash": "aee8b7b246df8f9039afb4144a1f6fd8d2ca17a180786b69acc140d282b71a49"
   }
  }
 },
 "nbformat": 4,
 "nbformat_minor": 2
}
